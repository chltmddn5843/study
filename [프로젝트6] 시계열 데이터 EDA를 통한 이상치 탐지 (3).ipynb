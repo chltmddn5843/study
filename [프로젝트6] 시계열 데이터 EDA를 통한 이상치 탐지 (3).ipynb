{
 "cells": [
  {
   "cell_type": "markdown",
   "id": "b26f894b",
   "metadata": {},
   "source": [
    "# [프로젝트6] 시계열 데이터 EDA를 통한 이상치 탐지 (3)\n",
    "---"
   ]
  },
  {
   "cell_type": "markdown",
   "id": "f027707b",
   "metadata": {
    "id": "BG_0zjG13zZy"
   },
   "source": [
    "\n",
    "## 프로젝트 목표\n",
    "---\n",
    "- 여러 개의 변수를 한 공간에 시각화를 통해 관계를 확인합니다.\n",
    "- 여러 변수에 대하여 행렬 프로파일을 통해 이상치를 탐지합니다.\n"
   ]
  },
  {
   "cell_type": "markdown",
   "id": "2b6900f3",
   "metadata": {
    "id": "pS7RvUWi5vJe"
   },
   "source": [
    "## 프로젝트 목차\n",
    "---\n",
    "\n",
    "1. **데이터 불러오기:** 기계학습을 이용한 이상치 탐지를 위한 데이터셋을 불러옵니다. \n",
    "\n",
    "2. **4개의 변수 시각화:** 4가지 변수를 정해서 한 공간에 matplotlib로 보여줍니다..\n",
    "\n",
    "3. **4개 변수 Matrix Profile 시각화:** 프로젝트5에서 배운 matrix profile를 4가지 변수에 적용하고 시각화합니다.\n",
    "\n",
    "4. **1005_1 장비로 돌려보기:** :1004_0 장비 외 타 장비 데이터를 활용하여 지금까지 한 내용을 실행해봅니다."
   ]
  },
  {
   "cell_type": "markdown",
   "id": "29ddd098",
   "metadata": {
    "id": "K-rxhtJI5_D2"
   },
   "source": [
    "## 프로젝트 개요\n",
    "---\n",
    "\n",
    "행렬 프로파일(Matrix Profile)을 통해 이상치를 탐지합니다. 행렬 프로파일이란, 데이터 부분 집합에서 가장 유사한 쌍를 찾아내는 Similarity Join 방법론 중 하나로, 모든 데이터의 쌍에 대하여 유사도 계산해야 하는 이전 방법론들의 단점을 개선한 알고리즘입니다."
   ]
  },
  {
   "cell_type": "markdown",
   "id": "280f2ba1",
   "metadata": {},
   "source": [
    "---"
   ]
  },
  {
   "cell_type": "markdown",
   "id": "2df3240c",
   "metadata": {},
   "source": [
    "## 1. 데이터 불러오기\n",
    "---"
   ]
  },
  {
   "cell_type": "code",
   "execution_count": 1,
   "id": "d17263e8",
   "metadata": {},
   "outputs": [],
   "source": [
    "import pandas as pd\n",
    "import matplotlib.pyplot as plt\n",
    "import os\n",
    "plt.rcParams['axes.unicode_minus']=False"
   ]
  },
  {
   "cell_type": "code",
   "execution_count": 2,
   "id": "030d1cff",
   "metadata": {},
   "outputs": [],
   "source": [
    "from sklearn.preprocessing import StandardScaler"
   ]
  },
  {
   "cell_type": "code",
   "execution_count": 3,
   "id": "3d862175",
   "metadata": {},
   "outputs": [],
   "source": [
    "df = pd.read_csv(\"df_preprocessed(inter)_1004_0.csv\")"
   ]
  },
  {
   "cell_type": "markdown",
   "id": "c2794a8b",
   "metadata": {},
   "source": [
    "다른 장비의 데이터를 불러오기 위해서는, 아래와 같은 함수를 사용하실 수 있습니다. "
   ]
  },
  {
   "cell_type": "code",
   "execution_count": null,
   "id": "670858d0",
   "metadata": {},
   "outputs": [],
   "source": [
    "df_0=pd.read_csv('/mnt/elice/dataset/mySuni_PJT_1_Data_bler.csv')\n",
    "df_1=pd.read_csv('/mnt/elice/dataset/mySuni_PJT_1_Data_connection.csv')\n",
    "df_2=pd.read_csv('/mnt/elice/dataset/mySuni_PJT_1_Data_interx2in_succ_rate.csv')\n",
    "df_3=pd.read_csv('/mnt/elice/dataset/mySuni_PJT_1_Data_interx2out_succ_rate.csv')\n",
    "df_4=pd.read_csv('/mnt/elice/dataset/mySuni_PJT_1_Data_intraenb_succ_rate.csv')\n",
    "df_5=pd.read_csv('/mnt/elice/dataset/mySuni_PJT_1_Data_PRB.csv')\n",
    "df_6=pd.read_csv('/mnt/elice/dataset/mySuni_PJT_1_Data_reconfig.csv')\n",
    "\n",
    "df_list = [df_0,df_1,df_2,df_3,df_4,df_5,df_6]"
   ]
  },
  {
   "cell_type": "markdown",
   "id": "0cac26e2",
   "metadata": {},
   "source": [
    "`preprocess_data` 모듈의 `return_preprocess_data(df_list, machine_name, order)` 함수를 활용하여 결측치가 보간된 데이터를 얻을 수 있습니다. \n",
    "\n",
    "machine_name 에는 원하는 장비명을, order에는 원하는 결측치 보간의 polynomial order 값을 입력해주세요.\n",
    "\n",
    "예를 들어, `1005_1` 장비의 전처리된 데이터를 불러오기 위해서는 아래와 같은 코드를 사용할 수 있습니다. "
   ]
  },
  {
   "cell_type": "code",
   "execution_count": null,
   "id": "76d165b4",
   "metadata": {},
   "outputs": [],
   "source": [
    "import preprocess_data\n",
    "\n",
    "df_new = preprocess_data.return_preprocess_data(df_list, '1005_1', 2)"
   ]
  },
  {
   "cell_type": "code",
   "execution_count": null,
   "id": "2c73863c",
   "metadata": {},
   "outputs": [],
   "source": [
    "df_new"
   ]
  },
  {
   "cell_type": "markdown",
   "id": "8a8641db",
   "metadata": {},
   "source": [
    "장비 명은 다음의 txt 파일에 저장되어있습니다. "
   ]
  },
  {
   "cell_type": "code",
   "execution_count": null,
   "id": "2597c28a",
   "metadata": {},
   "outputs": [],
   "source": [
    "f = open('./machine_list.txt')\n",
    "for i in f:\n",
    "    print(i)"
   ]
  },
  {
   "cell_type": "markdown",
   "id": "c399c4ba",
   "metadata": {},
   "source": [
    "## 2. 4개 변수 시각화\n",
    "---\n",
    "각 변수에 따라 값의 범위가 다르므로 Standard scaler를 통해 표준화 후 시각화 진행"
   ]
  },
  {
   "cell_type": "code",
   "execution_count": null,
   "id": "9f2e305c",
   "metadata": {},
   "outputs": [],
   "source": [
    "scaler_dl_prb = StandardScaler().fit_transform(df.dl_prb_inter.values.reshape(-1,1))\n",
    "scaler_ul_prb = StandardScaler().fit_transform(df.ul_prb_inter.values.reshape(-1,1))\n",
    "scaler_dl_bler = StandardScaler().fit_transform(df.dl_bler_inter.values.reshape(-1,1))\n",
    "scaler_ul_bler = StandardScaler().fit_transform(df.ul_bler_inter.values.reshape(-1,1))"
   ]
  },
  {
   "cell_type": "markdown",
   "id": "508b46e5",
   "metadata": {},
   "source": [
    "### [TODO] 4개 변수에 대한 시각화를 진행합니다.\n",
    "- `dl_prb_inter`, `ul_prb_inter`, `dl_bler_inter`, `ul_bler_inter` 4개 변수의 시각화를 진행합니다.\n",
    "- 시각화 시, 200개의 데이터를 활용합니다. "
   ]
  },
  {
   "cell_type": "code",
   "execution_count": null,
   "id": "2d554534",
   "metadata": {},
   "outputs": [],
   "source": [
    "fig = plt.subplots(figsize=(20,5))\n",
    "'code'\n",
    "\n",
    "plt.legend(loc='upper left')\n",
    "\n",
    "plt.show()\n"
   ]
  },
  {
   "cell_type": "markdown",
   "id": "ea66663c",
   "metadata": {},
   "source": [
    "## 3. 4개 변수 Matrix Profile 시각화\n",
    "---"
   ]
  },
  {
   "cell_type": "code",
   "execution_count": null,
   "id": "096df221",
   "metadata": {},
   "outputs": [],
   "source": [
    "!pip install matrixprofile-ts"
   ]
  },
  {
   "cell_type": "code",
   "execution_count": null,
   "id": "3310ac0b",
   "metadata": {},
   "outputs": [],
   "source": [
    "from matrixprofile import *"
   ]
  },
  {
   "cell_type": "code",
   "execution_count": null,
   "id": "1ad28588",
   "metadata": {},
   "outputs": [],
   "source": [
    "scaler_dl_prb.shape"
   ]
  },
  {
   "cell_type": "code",
   "execution_count": null,
   "id": "a111bde3",
   "metadata": {},
   "outputs": [],
   "source": [
    "window_size=50\n",
    "\n",
    "mp_dl_prb = matrixProfile.scrimp_plus_plus(scaler_dl_prb.reshape(2184,),window_size)\n",
    "mp_ul_prb = matrixProfile.scrimp_plus_plus(scaler_ul_prb.reshape(2184,),window_size)\n",
    "mp_dl_bler = matrixProfile.scrimp_plus_plus(scaler_dl_bler.reshape(2184,),window_size)\n",
    "mp_ul_bler = matrixProfile.scrimp_plus_plus(scaler_ul_bler.reshape(2184,),window_size)"
   ]
  },
  {
   "cell_type": "markdown",
   "id": "92f5283f",
   "metadata": {},
   "source": [
    "### [TODO] 4개 변수에 대한 Matrix Profile 시각화를 진행합니다. \n",
    "- `dl_prb_inter`, `ul_prb_inter`, `dl_bler_inter`, `ul_bler_inter` 4개 변수의 Matrix Profile 시각화를 진행합니다.\n",
    "- 시각화 시, 200개의 데이터를 활용합니다."
   ]
  },
  {
   "cell_type": "code",
   "execution_count": null,
   "id": "81aa2fcf",
   "metadata": {},
   "outputs": [],
   "source": [
    "fig = plt.subplots(figsize=(20,5))\n",
    "'code'\n",
    "\n",
    "plt.legend(loc='upper left')\n",
    "\n",
    "plt.show()"
   ]
  },
  {
   "cell_type": "markdown",
   "id": "6e311b1b",
   "metadata": {},
   "source": [
    "## 4. 1005_1 장비로 돌려보기\n",
    "---"
   ]
  },
  {
   "cell_type": "code",
   "execution_count": null,
   "id": "7412d43b",
   "metadata": {},
   "outputs": [],
   "source": [
    "df_2 = pd.read_csv(\"df_preprocessed(inter)_1005_1.csv\")"
   ]
  },
  {
   "cell_type": "code",
   "execution_count": null,
   "id": "61d21352",
   "metadata": {},
   "outputs": [],
   "source": [
    "scaler_dl_prb = StandardScaler().fit_transform(df_2.dl_prb_inter.values.reshape(-1,1))\n",
    "scaler_ul_prb = StandardScaler().fit_transform(df_2.ul_prb_inter.values.reshape(-1,1))\n",
    "scaler_dl_bler = StandardScaler().fit_transform(df_2.dl_bler_inter.values.reshape(-1,1))\n",
    "scaler_ul_bler = StandardScaler().fit_transform(df_2.ul_bler_inter.values.reshape(-1,1))"
   ]
  },
  {
   "cell_type": "code",
   "execution_count": null,
   "id": "55c8be0e",
   "metadata": {
    "scrolled": true
   },
   "outputs": [],
   "source": [
    "fig = plt.subplots(figsize=(20,5))\n",
    "plt.plot(scaler_dl_prb[0:200], label='dl_prb_inter')\n",
    "plt.plot(scaler_ul_prb[0:200], label='ul_prb_inter')\n",
    "plt.plot(scaler_dl_bler[0:200], label='dl_bler_inter')\n",
    "plt.plot(scaler_ul_bler[0:200], label='ul_bler_inter')\n",
    "\n",
    "plt.legend(loc='upper left')\n",
    "\n",
    "plt.show()\n"
   ]
  },
  {
   "cell_type": "code",
   "execution_count": null,
   "id": "9b7022df",
   "metadata": {},
   "outputs": [],
   "source": [
    "window_size=50\n",
    "\n",
    "mp_dl_prb = matrixProfile.scrimp_plus_plus(scaler_dl_prb.reshape(2184,),window_size)\n",
    "mp_ul_prb = matrixProfile.scrimp_plus_plus(scaler_ul_prb.reshape(2184,),window_size)\n",
    "mp_dl_bler = matrixProfile.scrimp_plus_plus(scaler_dl_bler.reshape(2184,),window_size)\n",
    "mp_ul_bler = matrixProfile.scrimp_plus_plus(scaler_ul_bler.reshape(2184,),window_size)"
   ]
  },
  {
   "cell_type": "code",
   "execution_count": null,
   "id": "0f8f98dd",
   "metadata": {},
   "outputs": [],
   "source": [
    "fig = plt.subplots(figsize=(20,5))\n",
    "plt.plot(range(200), mp_dl_prb[0][0:200], label='dl_prb_inter_1005_1')\n",
    "plt.plot(range(200), mp_ul_prb[0][0:200], label='ul_prb_inter_1005_1')\n",
    "plt.plot(range(200), mp_dl_bler[0][0:200], label='dl_bler_inter_1005_1')\n",
    "plt.plot(range(200), mp_ul_bler[0][0:200], label='ul_bler_inter_1005_1')\n",
    "\n",
    "plt.legend(loc='upper left')\n",
    "\n",
    "plt.show()"
   ]
  }
 ],
 "metadata": {
  "kernelspec": {
   "display_name": "Python 3 (ipykernel)",
   "language": "python",
   "name": "python3"
  },
  "language_info": {
   "codemirror_mode": {
    "name": "ipython",
    "version": 3
   },
   "file_extension": ".py",
   "mimetype": "text/x-python",
   "name": "python",
   "nbconvert_exporter": "python",
   "pygments_lexer": "ipython3",
   "version": "3.10.14"
  }
 },
 "nbformat": 4,
 "nbformat_minor": 5
}
