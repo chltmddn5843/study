{
 "cells": [
  {
   "cell_type": "markdown",
   "id": "05b2ed10",
   "metadata": {},
   "source": [
    "# [프로젝트3] 시계열 데이터 전처리하기\n",
    "---"
   ]
  },
  {
   "cell_type": "markdown",
   "id": "26f11eb5",
   "metadata": {
    "id": "BG_0zjG13zZy"
   },
   "source": [
    "\n",
    "## 프로젝트 목표\n",
    "---\n",
    "- 데이터셋 내에 존재하는 결측치를 보간법을 활용하여 대체합니다.\n",
    "- 데이터셋 내에 존재하는 변수값의 범위를 비슷하게 만들어주는 표준화를 진행합니다.\n"
   ]
  },
  {
   "cell_type": "markdown",
   "id": "1c313c7f",
   "metadata": {
    "id": "pS7RvUWi5vJe"
   },
   "source": [
    "## 프로젝트 목차\n",
    "---\n",
    "\n",
    "1. **데이터 불러오기:** 전처리를 진행할 데이터셋을 불러옵니다.\n",
    "\n",
    "2. **결측치 처리하기 (보간법):** 데이터셋 내에 존재하는 결측치 개수를 확인하고, 보간법을 활용하여 결측치를 대체하여 csv 파일로 도출합니다.\n",
    "\n",
    "3. **데이터 표준화:** 변수 값의 범위를 유사하게 만들어주기 위한 표준화를 진행하고, csv 파일로 도출합니다.\n",
    "\n"
   ]
  },
  {
   "cell_type": "markdown",
   "id": "fe587b1d",
   "metadata": {
    "id": "K-rxhtJI5_D2"
   },
   "source": [
    "## 프로젝트 개요\n",
    "---\n",
    "\n",
    "cell id `1004_0`인 데이터를 활용하여 시계열 데이터 전처리(결측치 대체, 정규화, 표준화) 합니다.\n"
   ]
  },
  {
   "cell_type": "markdown",
   "id": "3b1050c5",
   "metadata": {},
   "source": [
    "## 1. 데이터 불러오기\n",
    "---\n",
    "\n",
    "전처리를 진행할 데이터셋을 불러오고, 기초 구조를 확인합니다. "
   ]
  },
  {
   "cell_type": "code",
   "execution_count": 1,
   "id": "42c31129",
   "metadata": {},
   "outputs": [],
   "source": [
    "import numpy as np\n",
    "import matplotlib.pyplot as plt \n",
    "import pandas as pd\n",
    "import seaborn as sns\n",
    "import os\n",
    "from sklearn.preprocessing import StandardScaler\n",
    "#plt.rcParams['axes.unicode_minus']=False"
   ]
  },
  {
   "cell_type": "code",
   "execution_count": 2,
   "id": "205addd2",
   "metadata": {},
   "outputs": [
    {
     "ename": "FileNotFoundError",
     "evalue": "[Errno 2] No such file or directory: '1004_0.csv'",
     "output_type": "error",
     "traceback": [
      "\u001b[31m---------------------------------------------------------------------------\u001b[39m",
      "\u001b[31mFileNotFoundError\u001b[39m                         Traceback (most recent call last)",
      "\u001b[36mCell\u001b[39m\u001b[36m \u001b[39m\u001b[32mIn[2]\u001b[39m\u001b[32m, line 1\u001b[39m\n\u001b[32m----> \u001b[39m\u001b[32m1\u001b[39m df=\u001b[43mpd\u001b[49m\u001b[43m.\u001b[49m\u001b[43mread_csv\u001b[49m\u001b[43m(\u001b[49m\u001b[33;43m'\u001b[39;49m\u001b[33;43m1004_0.csv\u001b[39;49m\u001b[33;43m'\u001b[39;49m\u001b[43m)\u001b[49m\n",
      "\u001b[36mFile \u001b[39m\u001b[32mc:\\Users\\chltm\\Downloads\\sk\\.venv\\Lib\\site-packages\\pandas\\io\\parsers\\readers.py:1026\u001b[39m, in \u001b[36mread_csv\u001b[39m\u001b[34m(filepath_or_buffer, sep, delimiter, header, names, index_col, usecols, dtype, engine, converters, true_values, false_values, skipinitialspace, skiprows, skipfooter, nrows, na_values, keep_default_na, na_filter, verbose, skip_blank_lines, parse_dates, infer_datetime_format, keep_date_col, date_parser, date_format, dayfirst, cache_dates, iterator, chunksize, compression, thousands, decimal, lineterminator, quotechar, quoting, doublequote, escapechar, comment, encoding, encoding_errors, dialect, on_bad_lines, delim_whitespace, low_memory, memory_map, float_precision, storage_options, dtype_backend)\u001b[39m\n\u001b[32m   1013\u001b[39m kwds_defaults = _refine_defaults_read(\n\u001b[32m   1014\u001b[39m     dialect,\n\u001b[32m   1015\u001b[39m     delimiter,\n\u001b[32m   (...)\u001b[39m\u001b[32m   1022\u001b[39m     dtype_backend=dtype_backend,\n\u001b[32m   1023\u001b[39m )\n\u001b[32m   1024\u001b[39m kwds.update(kwds_defaults)\n\u001b[32m-> \u001b[39m\u001b[32m1026\u001b[39m \u001b[38;5;28;01mreturn\u001b[39;00m \u001b[43m_read\u001b[49m\u001b[43m(\u001b[49m\u001b[43mfilepath_or_buffer\u001b[49m\u001b[43m,\u001b[49m\u001b[43m \u001b[49m\u001b[43mkwds\u001b[49m\u001b[43m)\u001b[49m\n",
      "\u001b[36mFile \u001b[39m\u001b[32mc:\\Users\\chltm\\Downloads\\sk\\.venv\\Lib\\site-packages\\pandas\\io\\parsers\\readers.py:620\u001b[39m, in \u001b[36m_read\u001b[39m\u001b[34m(filepath_or_buffer, kwds)\u001b[39m\n\u001b[32m    617\u001b[39m _validate_names(kwds.get(\u001b[33m\"\u001b[39m\u001b[33mnames\u001b[39m\u001b[33m\"\u001b[39m, \u001b[38;5;28;01mNone\u001b[39;00m))\n\u001b[32m    619\u001b[39m \u001b[38;5;66;03m# Create the parser.\u001b[39;00m\n\u001b[32m--> \u001b[39m\u001b[32m620\u001b[39m parser = \u001b[43mTextFileReader\u001b[49m\u001b[43m(\u001b[49m\u001b[43mfilepath_or_buffer\u001b[49m\u001b[43m,\u001b[49m\u001b[43m \u001b[49m\u001b[43m*\u001b[49m\u001b[43m*\u001b[49m\u001b[43mkwds\u001b[49m\u001b[43m)\u001b[49m\n\u001b[32m    622\u001b[39m \u001b[38;5;28;01mif\u001b[39;00m chunksize \u001b[38;5;129;01mor\u001b[39;00m iterator:\n\u001b[32m    623\u001b[39m     \u001b[38;5;28;01mreturn\u001b[39;00m parser\n",
      "\u001b[36mFile \u001b[39m\u001b[32mc:\\Users\\chltm\\Downloads\\sk\\.venv\\Lib\\site-packages\\pandas\\io\\parsers\\readers.py:1620\u001b[39m, in \u001b[36mTextFileReader.__init__\u001b[39m\u001b[34m(self, f, engine, **kwds)\u001b[39m\n\u001b[32m   1617\u001b[39m     \u001b[38;5;28mself\u001b[39m.options[\u001b[33m\"\u001b[39m\u001b[33mhas_index_names\u001b[39m\u001b[33m\"\u001b[39m] = kwds[\u001b[33m\"\u001b[39m\u001b[33mhas_index_names\u001b[39m\u001b[33m\"\u001b[39m]\n\u001b[32m   1619\u001b[39m \u001b[38;5;28mself\u001b[39m.handles: IOHandles | \u001b[38;5;28;01mNone\u001b[39;00m = \u001b[38;5;28;01mNone\u001b[39;00m\n\u001b[32m-> \u001b[39m\u001b[32m1620\u001b[39m \u001b[38;5;28mself\u001b[39m._engine = \u001b[38;5;28;43mself\u001b[39;49m\u001b[43m.\u001b[49m\u001b[43m_make_engine\u001b[49m\u001b[43m(\u001b[49m\u001b[43mf\u001b[49m\u001b[43m,\u001b[49m\u001b[43m \u001b[49m\u001b[38;5;28;43mself\u001b[39;49m\u001b[43m.\u001b[49m\u001b[43mengine\u001b[49m\u001b[43m)\u001b[49m\n",
      "\u001b[36mFile \u001b[39m\u001b[32mc:\\Users\\chltm\\Downloads\\sk\\.venv\\Lib\\site-packages\\pandas\\io\\parsers\\readers.py:1880\u001b[39m, in \u001b[36mTextFileReader._make_engine\u001b[39m\u001b[34m(self, f, engine)\u001b[39m\n\u001b[32m   1878\u001b[39m     \u001b[38;5;28;01mif\u001b[39;00m \u001b[33m\"\u001b[39m\u001b[33mb\u001b[39m\u001b[33m\"\u001b[39m \u001b[38;5;129;01mnot\u001b[39;00m \u001b[38;5;129;01min\u001b[39;00m mode:\n\u001b[32m   1879\u001b[39m         mode += \u001b[33m\"\u001b[39m\u001b[33mb\u001b[39m\u001b[33m\"\u001b[39m\n\u001b[32m-> \u001b[39m\u001b[32m1880\u001b[39m \u001b[38;5;28mself\u001b[39m.handles = \u001b[43mget_handle\u001b[49m\u001b[43m(\u001b[49m\n\u001b[32m   1881\u001b[39m \u001b[43m    \u001b[49m\u001b[43mf\u001b[49m\u001b[43m,\u001b[49m\n\u001b[32m   1882\u001b[39m \u001b[43m    \u001b[49m\u001b[43mmode\u001b[49m\u001b[43m,\u001b[49m\n\u001b[32m   1883\u001b[39m \u001b[43m    \u001b[49m\u001b[43mencoding\u001b[49m\u001b[43m=\u001b[49m\u001b[38;5;28;43mself\u001b[39;49m\u001b[43m.\u001b[49m\u001b[43moptions\u001b[49m\u001b[43m.\u001b[49m\u001b[43mget\u001b[49m\u001b[43m(\u001b[49m\u001b[33;43m\"\u001b[39;49m\u001b[33;43mencoding\u001b[39;49m\u001b[33;43m\"\u001b[39;49m\u001b[43m,\u001b[49m\u001b[43m \u001b[49m\u001b[38;5;28;43;01mNone\u001b[39;49;00m\u001b[43m)\u001b[49m\u001b[43m,\u001b[49m\n\u001b[32m   1884\u001b[39m \u001b[43m    \u001b[49m\u001b[43mcompression\u001b[49m\u001b[43m=\u001b[49m\u001b[38;5;28;43mself\u001b[39;49m\u001b[43m.\u001b[49m\u001b[43moptions\u001b[49m\u001b[43m.\u001b[49m\u001b[43mget\u001b[49m\u001b[43m(\u001b[49m\u001b[33;43m\"\u001b[39;49m\u001b[33;43mcompression\u001b[39;49m\u001b[33;43m\"\u001b[39;49m\u001b[43m,\u001b[49m\u001b[43m \u001b[49m\u001b[38;5;28;43;01mNone\u001b[39;49;00m\u001b[43m)\u001b[49m\u001b[43m,\u001b[49m\n\u001b[32m   1885\u001b[39m \u001b[43m    \u001b[49m\u001b[43mmemory_map\u001b[49m\u001b[43m=\u001b[49m\u001b[38;5;28;43mself\u001b[39;49m\u001b[43m.\u001b[49m\u001b[43moptions\u001b[49m\u001b[43m.\u001b[49m\u001b[43mget\u001b[49m\u001b[43m(\u001b[49m\u001b[33;43m\"\u001b[39;49m\u001b[33;43mmemory_map\u001b[39;49m\u001b[33;43m\"\u001b[39;49m\u001b[43m,\u001b[49m\u001b[43m \u001b[49m\u001b[38;5;28;43;01mFalse\u001b[39;49;00m\u001b[43m)\u001b[49m\u001b[43m,\u001b[49m\n\u001b[32m   1886\u001b[39m \u001b[43m    \u001b[49m\u001b[43mis_text\u001b[49m\u001b[43m=\u001b[49m\u001b[43mis_text\u001b[49m\u001b[43m,\u001b[49m\n\u001b[32m   1887\u001b[39m \u001b[43m    \u001b[49m\u001b[43merrors\u001b[49m\u001b[43m=\u001b[49m\u001b[38;5;28;43mself\u001b[39;49m\u001b[43m.\u001b[49m\u001b[43moptions\u001b[49m\u001b[43m.\u001b[49m\u001b[43mget\u001b[49m\u001b[43m(\u001b[49m\u001b[33;43m\"\u001b[39;49m\u001b[33;43mencoding_errors\u001b[39;49m\u001b[33;43m\"\u001b[39;49m\u001b[43m,\u001b[49m\u001b[43m \u001b[49m\u001b[33;43m\"\u001b[39;49m\u001b[33;43mstrict\u001b[39;49m\u001b[33;43m\"\u001b[39;49m\u001b[43m)\u001b[49m\u001b[43m,\u001b[49m\n\u001b[32m   1888\u001b[39m \u001b[43m    \u001b[49m\u001b[43mstorage_options\u001b[49m\u001b[43m=\u001b[49m\u001b[38;5;28;43mself\u001b[39;49m\u001b[43m.\u001b[49m\u001b[43moptions\u001b[49m\u001b[43m.\u001b[49m\u001b[43mget\u001b[49m\u001b[43m(\u001b[49m\u001b[33;43m\"\u001b[39;49m\u001b[33;43mstorage_options\u001b[39;49m\u001b[33;43m\"\u001b[39;49m\u001b[43m,\u001b[49m\u001b[43m \u001b[49m\u001b[38;5;28;43;01mNone\u001b[39;49;00m\u001b[43m)\u001b[49m\u001b[43m,\u001b[49m\n\u001b[32m   1889\u001b[39m \u001b[43m\u001b[49m\u001b[43m)\u001b[49m\n\u001b[32m   1890\u001b[39m \u001b[38;5;28;01massert\u001b[39;00m \u001b[38;5;28mself\u001b[39m.handles \u001b[38;5;129;01mis\u001b[39;00m \u001b[38;5;129;01mnot\u001b[39;00m \u001b[38;5;28;01mNone\u001b[39;00m\n\u001b[32m   1891\u001b[39m f = \u001b[38;5;28mself\u001b[39m.handles.handle\n",
      "\u001b[36mFile \u001b[39m\u001b[32mc:\\Users\\chltm\\Downloads\\sk\\.venv\\Lib\\site-packages\\pandas\\io\\common.py:873\u001b[39m, in \u001b[36mget_handle\u001b[39m\u001b[34m(path_or_buf, mode, encoding, compression, memory_map, is_text, errors, storage_options)\u001b[39m\n\u001b[32m    868\u001b[39m \u001b[38;5;28;01melif\u001b[39;00m \u001b[38;5;28misinstance\u001b[39m(handle, \u001b[38;5;28mstr\u001b[39m):\n\u001b[32m    869\u001b[39m     \u001b[38;5;66;03m# Check whether the filename is to be opened in binary mode.\u001b[39;00m\n\u001b[32m    870\u001b[39m     \u001b[38;5;66;03m# Binary mode does not support 'encoding' and 'newline'.\u001b[39;00m\n\u001b[32m    871\u001b[39m     \u001b[38;5;28;01mif\u001b[39;00m ioargs.encoding \u001b[38;5;129;01mand\u001b[39;00m \u001b[33m\"\u001b[39m\u001b[33mb\u001b[39m\u001b[33m\"\u001b[39m \u001b[38;5;129;01mnot\u001b[39;00m \u001b[38;5;129;01min\u001b[39;00m ioargs.mode:\n\u001b[32m    872\u001b[39m         \u001b[38;5;66;03m# Encoding\u001b[39;00m\n\u001b[32m--> \u001b[39m\u001b[32m873\u001b[39m         handle = \u001b[38;5;28;43mopen\u001b[39;49m\u001b[43m(\u001b[49m\n\u001b[32m    874\u001b[39m \u001b[43m            \u001b[49m\u001b[43mhandle\u001b[49m\u001b[43m,\u001b[49m\n\u001b[32m    875\u001b[39m \u001b[43m            \u001b[49m\u001b[43mioargs\u001b[49m\u001b[43m.\u001b[49m\u001b[43mmode\u001b[49m\u001b[43m,\u001b[49m\n\u001b[32m    876\u001b[39m \u001b[43m            \u001b[49m\u001b[43mencoding\u001b[49m\u001b[43m=\u001b[49m\u001b[43mioargs\u001b[49m\u001b[43m.\u001b[49m\u001b[43mencoding\u001b[49m\u001b[43m,\u001b[49m\n\u001b[32m    877\u001b[39m \u001b[43m            \u001b[49m\u001b[43merrors\u001b[49m\u001b[43m=\u001b[49m\u001b[43merrors\u001b[49m\u001b[43m,\u001b[49m\n\u001b[32m    878\u001b[39m \u001b[43m            \u001b[49m\u001b[43mnewline\u001b[49m\u001b[43m=\u001b[49m\u001b[33;43m\"\u001b[39;49m\u001b[33;43m\"\u001b[39;49m\u001b[43m,\u001b[49m\n\u001b[32m    879\u001b[39m \u001b[43m        \u001b[49m\u001b[43m)\u001b[49m\n\u001b[32m    880\u001b[39m     \u001b[38;5;28;01melse\u001b[39;00m:\n\u001b[32m    881\u001b[39m         \u001b[38;5;66;03m# Binary mode\u001b[39;00m\n\u001b[32m    882\u001b[39m         handle = \u001b[38;5;28mopen\u001b[39m(handle, ioargs.mode)\n",
      "\u001b[31mFileNotFoundError\u001b[39m: [Errno 2] No such file or directory: '1004_0.csv'"
     ]
    }
   ],
   "source": [
    "df=pd.read_csv('1004_0.csv')"
   ]
  },
  {
   "cell_type": "code",
   "execution_count": null,
   "id": "6f1d7617",
   "metadata": {
    "scrolled": false
   },
   "outputs": [],
   "source": [
    "df"
   ]
  },
  {
   "cell_type": "markdown",
   "id": "165f9f4d",
   "metadata": {},
   "source": [
    "## 2. 결측치 처리하기 (보간법)\n",
    "---\n",
    "\n",
    "데이터 분석 수학 분야에서 \"보간법(Interpolation)은 데이터 포인트들의 이산형 집합의 범위에 기반해서 새로운 데이터 포인트들을 만들거나 찾는 추정(estimation)의 한 유형＂입니다. 이번 시간에는 이러한 보간법을 활용하여 데이터 셋 내에 존재하는 결측치를 직접 처리해보겠습니다. "
   ]
  },
  {
   "cell_type": "markdown",
   "id": "7ccf7385",
   "metadata": {},
   "source": [
    "#### 결측값 갯수"
   ]
  },
  {
   "cell_type": "code",
   "execution_count": null,
   "id": "915d93ea",
   "metadata": {
    "scrolled": true
   },
   "outputs": [],
   "source": [
    "df.isnull().sum()"
   ]
  },
  {
   "cell_type": "markdown",
   "id": "792a7f6c",
   "metadata": {},
   "source": [
    "#### df_temp 복제"
   ]
  },
  {
   "cell_type": "code",
   "execution_count": null,
   "id": "a0523ea6",
   "metadata": {},
   "outputs": [],
   "source": [
    "df_temp=df.copy()"
   ]
  },
  {
   "cell_type": "markdown",
   "id": "ff8527cf",
   "metadata": {},
   "source": [
    "#### spline interpolation 이용"
   ]
  },
  {
   "cell_type": "markdown",
   "id": "f80d08db",
   "metadata": {},
   "source": [
    "#### 보간법 "
   ]
  },
  {
   "cell_type": "code",
   "execution_count": null,
   "id": "90367674",
   "metadata": {},
   "outputs": [],
   "source": [
    "#spline interpolation\n",
    "dl_bler_inter_2=df_temp['dl_bler'].interpolate(method='polynomial', order=2)\n",
    "ul_bler_inter_2=df_temp['ul_bler'].interpolate(method='polynomial', order=2)\n",
    "conn_avg_inter_2=df_temp['conn_avg'].interpolate(method='polynomial', order=2)\n",
    "conn_max_inter_2=df_temp['conn_max'].interpolate(method='polynomial', order=2)\n",
    "interx2in_succ_rate_inter_2=df_temp['interx2in_succ_rate'].interpolate(method='polynomial', order=2)\n",
    "interx2out_succ_rate_inter_2=df_temp['interx2out_succ_rate'].interpolate(method='polynomial', order=2)\n",
    "intraenb_succ_rate_inter_2=df_temp['intraenb_succ_rate'].interpolate(method='polynomial', order=2)\n",
    "dl_prb_inter_2=df_temp['dl_prb'].interpolate(method='polynomial', order=2)\n",
    "ul_prb_inter_2=df_temp['ul_prb'].interpolate(method='polynomial', order=2)\n",
    "reconfig_succ_rate_inter_2=df_temp['reconfig_succ_rate'].interpolate(method='polynomial', order=2)"
   ]
  },
  {
   "cell_type": "code",
   "execution_count": null,
   "id": "02970c55",
   "metadata": {},
   "outputs": [],
   "source": [
    "df_preprocessed=pd.DataFrame()\n",
    "df_preprocessed['dl_bler_inter']=dl_bler_inter_2\n",
    "df_preprocessed['ul_bler_inter']=ul_bler_inter_2\n",
    "df_preprocessed['conn_avg_inter']=conn_avg_inter_2\n",
    "df_preprocessed['conn_max_inter']=conn_max_inter_2\n",
    "df_preprocessed['interx2in_succ_rate_inter']=interx2in_succ_rate_inter_2\n",
    "df_preprocessed['interx2out_succ_rate_inter']=interx2out_succ_rate_inter_2\n",
    "df_preprocessed['intraenb_succ_rate_inter']=intraenb_succ_rate_inter_2\n",
    "df_preprocessed['dl_prb_inter']=dl_prb_inter_2\n",
    "df_preprocessed['ul_prb_inter']=ul_prb_inter_2\n",
    "df_preprocessed['reconfig_succ_rate_inter']=reconfig_succ_rate_inter_2"
   ]
  },
  {
   "cell_type": "code",
   "execution_count": null,
   "id": "2bfc22e7",
   "metadata": {
    "scrolled": false
   },
   "outputs": [],
   "source": [
    "df_preprocessed"
   ]
  },
  {
   "cell_type": "code",
   "execution_count": null,
   "id": "a73c421d",
   "metadata": {
    "scrolled": true
   },
   "outputs": [],
   "source": [
    "df_preprocessed.isnull().sum()"
   ]
  },
  {
   "cell_type": "code",
   "execution_count": null,
   "id": "eed29bc6",
   "metadata": {},
   "outputs": [],
   "source": [
    "df_preprocessed.to_csv('df_preprocessed(inter)_1004_0.csv', index=None)"
   ]
  },
  {
   "cell_type": "markdown",
   "id": "9496c094",
   "metadata": {},
   "source": [
    "## 3. 데이터 표준화\n",
    "---\n",
    "\n",
    "표준화는 각각의 변수의 단위가 다르기 때문에 변수들의 값의 범위를 비슷하게 만들어주는 과정입니다. \n",
    "\n",
    "sklearn의 StandardScaler를 활용하여 데이터의 표준화를 진행해보겠습니다. "
   ]
  },
  {
   "cell_type": "markdown",
   "id": "b9a63662",
   "metadata": {},
   "source": [
    "#### 표준화"
   ]
  },
  {
   "cell_type": "code",
   "execution_count": null,
   "id": "4e62485e",
   "metadata": {},
   "outputs": [],
   "source": [
    "from sklearn.preprocessing import StandardScaler"
   ]
  },
  {
   "cell_type": "code",
   "execution_count": null,
   "id": "4b86e557",
   "metadata": {},
   "outputs": [],
   "source": [
    "df_dl_bler=df_preprocessed['dl_bler_inter'].values.reshape(-1, 1)\n",
    "df_ul_bler=df_preprocessed['ul_bler_inter'].values.reshape(-1, 1)\n",
    "df_conn_avg=df_preprocessed['conn_avg_inter'].values.reshape(-1, 1)\n",
    "df_conn_max=df_preprocessed['conn_max_inter'].values.reshape(-1, 1)\n",
    "df_interx2in_succ_rate=df_preprocessed['interx2in_succ_rate_inter'].values.reshape(-1, 1)\n",
    "df_interx2out_succ_rate=df_preprocessed['interx2out_succ_rate_inter'].values.reshape(-1, 1)\n",
    "df_intraenb_succ_rate=df_preprocessed['intraenb_succ_rate_inter'].values.reshape(-1, 1)\n",
    "df_dl_prb=df_preprocessed['dl_prb_inter'].values.reshape(-1, 1)\n",
    "df_ul_prb=df_preprocessed['ul_prb_inter'].values.reshape(-1, 1)\n",
    "df_reconfig_succ_rate=df_preprocessed['reconfig_succ_rate_inter'].values.reshape(-1, 1)"
   ]
  },
  {
   "cell_type": "code",
   "execution_count": null,
   "id": "ee9371bb",
   "metadata": {},
   "outputs": [],
   "source": [
    "# standardize\n",
    "scaler = StandardScaler()\n",
    "\n",
    "df_dl_bler_inter_scaled= scaler.fit_transform(df_dl_bler)\n",
    "df_ul_bler_inter_scaled= scaler.fit_transform(df_ul_bler)\n",
    "df_conn_avg_inter_scaled= scaler.fit_transform(df_conn_avg)\n",
    "df_conn_max_inter_scaled= scaler.fit_transform(df_conn_max)\n",
    "df_interx2in_succ_rate_inter_scaled= scaler.fit_transform(df_interx2in_succ_rate)\n",
    "df_interx2out_succ_rate_inter_scaled= scaler.fit_transform(df_interx2out_succ_rate)\n",
    "df_intraenb_succ_rate_inter_scaled= scaler.fit_transform(df_intraenb_succ_rate)\n",
    "df_dl_prb_inter_scaled= scaler.fit_transform(df_dl_prb)\n",
    "df_ul_prb_inter_scaled= scaler.fit_transform(df_ul_prb)\n",
    "df_reconfig_succ_rate_inter_scaled= scaler.fit_transform(df_reconfig_succ_rate)"
   ]
  },
  {
   "cell_type": "code",
   "execution_count": null,
   "id": "8dcd39cf",
   "metadata": {},
   "outputs": [],
   "source": [
    "df_preprocessed_2=pd.DataFrame()\n",
    "df_preprocessed_2['dl_bler']=pd.Series(df_dl_bler_inter_scaled.reshape(-1))\n",
    "df_preprocessed_2['ul_bler']=pd.Series(df_ul_bler_inter_scaled.reshape(-1))\n",
    "df_preprocessed_2['conn_avg']=pd.Series(df_conn_avg_inter_scaled.reshape(-1))\n",
    "df_preprocessed_2['conn_max']=pd.Series(df_conn_max_inter_scaled.reshape(-1))\n",
    "df_preprocessed_2['interx2in_succ_rate']=pd.Series(df_interx2in_succ_rate_inter_scaled.reshape(-1))\n",
    "df_preprocessed_2['interx2out_succ_rate']=pd.Series(df_interx2out_succ_rate_inter_scaled.reshape(-1))\n",
    "df_preprocessed_2['intraenb_succ_rate']=pd.Series(df_intraenb_succ_rate_inter_scaled.reshape(-1))\n",
    "df_preprocessed_2['dl_prb']=pd.Series(df_dl_prb_inter_scaled.reshape(-1))\n",
    "df_preprocessed_2['ul_prb']=pd.Series(df_ul_prb_inter_scaled.reshape(-1))\n",
    "df_preprocessed_2['reconfig_succ_rate']=pd.Series(df_reconfig_succ_rate_inter_scaled.reshape(-1))"
   ]
  },
  {
   "cell_type": "code",
   "execution_count": null,
   "id": "5d350e49",
   "metadata": {},
   "outputs": [],
   "source": [
    "df_preprocessed_2"
   ]
  },
  {
   "cell_type": "markdown",
   "id": "4559bec0",
   "metadata": {},
   "source": [
    "전처리가 완료된 `1004_0` 장비 데이터를 csv로 도출합니다."
   ]
  },
  {
   "cell_type": "code",
   "execution_count": null,
   "id": "85852436",
   "metadata": {},
   "outputs": [],
   "source": [
    "df_preprocessed_2.to_csv('df_preprocessed(inter&scaled)_1004_0.csv', index=None)"
   ]
  },
  {
   "cell_type": "markdown",
   "id": "62496eb2",
   "metadata": {},
   "source": [
    "`1004_0` 외의 장비 데이터를 전처리하기 위해 전처리 과정을 함수로 구현합니다.\n",
    "\n",
    "이 때, interpolate의 polynomial의 order는 사용자가 정의할 수 있도록 합니다. "
   ]
  },
  {
   "cell_type": "code",
   "execution_count": null,
   "id": "af2cfeb5",
   "metadata": {},
   "outputs": [],
   "source": [
    "def fill_missing_value(df_temp, ordern):\n",
    "    #spline interpolation\n",
    "    dl_bler_inter_2=df_temp['dl_bler'].interpolate(method='polynomial', order=ordern)\n",
    "    ul_bler_inter_2=df_temp['ul_bler'].interpolate(method='polynomial', order=ordern)\n",
    "    conn_avg_inter_2=df_temp['conn_avg'].interpolate(method='polynomial', order=ordern)\n",
    "    conn_max_inter_2=df_temp['conn_max'].interpolate(method='polynomial', order=ordern)\n",
    "    interx2in_succ_rate_inter_2=df_temp['interx2in_succ_rate'].interpolate(method='polynomial', order=ordern)\n",
    "    interx2out_succ_rate_inter_2=df_temp['interx2out_succ_rate'].interpolate(method='polynomial', order=ordern)\n",
    "    intraenb_succ_rate_inter_2=df_temp['intraenb_succ_rate'].interpolate(method='polynomial', order=ordern)\n",
    "    dl_prb_inter_2=df_temp['dl_prb'].interpolate(method='polynomial', order=ordern)\n",
    "    ul_prb_inter_2=df_temp['ul_prb'].interpolate(method='polynomial', order=ordern)\n",
    "    reconfig_succ_rate_inter_2=df_temp['reconfig_succ_rate'].interpolate(method='polynomial', order=ordern)\n",
    "    \n",
    "    df_preprocessed=pd.DataFrame()\n",
    "    df_preprocessed['dl_bler_inter']=dl_bler_inter_2\n",
    "    df_preprocessed['ul_bler_inter']=ul_bler_inter_2\n",
    "    df_preprocessed['conn_avg_inter']=conn_avg_inter_2\n",
    "    df_preprocessed['conn_max_inter']=conn_max_inter_2\n",
    "    df_preprocessed['interx2in_succ_rate_inter']=interx2in_succ_rate_inter_2\n",
    "    df_preprocessed['interx2out_succ_rate_inter']=interx2out_succ_rate_inter_2\n",
    "    df_preprocessed['intraenb_succ_rate_inter']=intraenb_succ_rate_inter_2\n",
    "    df_preprocessed['dl_prb_inter']=dl_prb_inter_2\n",
    "    df_preprocessed['ul_prb_inter']=ul_prb_inter_2\n",
    "    df_preprocessed['reconfig_succ_rate_inter']=reconfig_succ_rate_inter_2\n",
    "    \n",
    "    return df_preprocessed"
   ]
  },
  {
   "cell_type": "code",
   "execution_count": null,
   "id": "572b8d45",
   "metadata": {},
   "outputs": [],
   "source": [
    "def standard_value(df_preprocessed):\n",
    "    df_dl_bler=df_preprocessed['dl_bler_inter'].values.reshape(-1, 1)\n",
    "    df_ul_bler=df_preprocessed['ul_bler_inter'].values.reshape(-1, 1)\n",
    "    df_conn_avg=df_preprocessed['conn_avg_inter'].values.reshape(-1, 1)\n",
    "    df_conn_max=df_preprocessed['conn_max_inter'].values.reshape(-1, 1)\n",
    "    df_interx2in_succ_rate=df_preprocessed['interx2in_succ_rate_inter'].values.reshape(-1, 1)\n",
    "    df_interx2out_succ_rate=df_preprocessed['interx2out_succ_rate_inter'].values.reshape(-1, 1)\n",
    "    df_intraenb_succ_rate=df_preprocessed['intraenb_succ_rate_inter'].values.reshape(-1, 1)\n",
    "    df_dl_prb=df_preprocessed['dl_prb_inter'].values.reshape(-1, 1)\n",
    "    df_ul_prb=df_preprocessed['ul_prb_inter'].values.reshape(-1, 1)\n",
    "    df_reconfig_succ_rate=df_preprocessed['reconfig_succ_rate_inter'].values.reshape(-1, 1)\n",
    "    \n",
    "    # standardize\n",
    "    scaler = StandardScaler()\n",
    "\n",
    "    df_dl_bler_inter_scaled= scaler.fit_transform(df_dl_bler)\n",
    "    df_ul_bler_inter_scaled= scaler.fit_transform(df_ul_bler)\n",
    "    df_conn_avg_inter_scaled= scaler.fit_transform(df_conn_avg)\n",
    "    df_conn_max_inter_scaled= scaler.fit_transform(df_conn_max)\n",
    "    df_interx2in_succ_rate_inter_scaled= scaler.fit_transform(df_interx2in_succ_rate)\n",
    "    df_interx2out_succ_rate_inter_scaled= scaler.fit_transform(df_interx2out_succ_rate)\n",
    "    df_intraenb_succ_rate_inter_scaled= scaler.fit_transform(df_intraenb_succ_rate)\n",
    "    df_dl_prb_inter_scaled= scaler.fit_transform(df_dl_prb)\n",
    "    df_ul_prb_inter_scaled= scaler.fit_transform(df_ul_prb)\n",
    "    df_reconfig_succ_rate_inter_scaled= scaler.fit_transform(df_reconfig_succ_rate)\n",
    "    \n",
    "    df_preprocessed_2=pd.DataFrame()\n",
    "    df_preprocessed_2['dl_bler']=pd.Series(df_dl_bler_inter_scaled.reshape(-1))\n",
    "    df_preprocessed_2['ul_bler']=pd.Series(df_ul_bler_inter_scaled.reshape(-1))\n",
    "    df_preprocessed_2['conn_avg']=pd.Series(df_conn_avg_inter_scaled.reshape(-1))\n",
    "    df_preprocessed_2['conn_max']=pd.Series(df_conn_max_inter_scaled.reshape(-1))\n",
    "    df_preprocessed_2['interx2in_succ_rate']=pd.Series(df_interx2in_succ_rate_inter_scaled.reshape(-1))\n",
    "    df_preprocessed_2['interx2out_succ_rate']=pd.Series(df_interx2out_succ_rate_inter_scaled.reshape(-1))\n",
    "    df_preprocessed_2['intraenb_succ_rate']=pd.Series(df_intraenb_succ_rate_inter_scaled.reshape(-1))\n",
    "    df_preprocessed_2['dl_prb']=pd.Series(df_dl_prb_inter_scaled.reshape(-1))\n",
    "    df_preprocessed_2['ul_prb']=pd.Series(df_ul_prb_inter_scaled.reshape(-1))\n",
    "    df_preprocessed_2['reconfig_succ_rate']=pd.Series(df_reconfig_succ_rate_inter_scaled.reshape(-1))\n",
    "    \n",
    "    return df_preprocessed_2"
   ]
  },
  {
   "cell_type": "markdown",
   "id": "a3c8b871",
   "metadata": {},
   "source": [
    "특정 장비를 전처리하고 csv 파일로 도출하는 함수는 다음과 같습니다. "
   ]
  },
  {
   "cell_type": "markdown",
   "id": "7cf21bbb",
   "metadata": {},
   "source": [
    "### [TODO] 구현한 함수를 활용하여 특정 정비를 전처리하고 csv 파일로 도출하는 함수를 구현합니다.\n",
    "\n",
    "- 전달받은 df_new와 order를 활용하여 결측치를 보간합니다. \n",
    "- 결측치를 보간한 데이터를 표준화합니다."
   ]
  },
  {
   "cell_type": "code",
   "execution_count": null,
   "id": "2c1e2066",
   "metadata": {},
   "outputs": [],
   "source": [
    "def preprocess_file(df_new, order, machine_name):\n",
    "    pre_df = 'code'\n",
    "    std_df = 'code'\n",
    "    std_df.to_csv(\"./df_preprocessed(inter&scaled)_\" + machine_name + \".csv\", index = None)"
   ]
  },
  {
   "cell_type": "markdown",
   "id": "6d183545",
   "metadata": {},
   "source": [
    "만약, 결측치만 보간한 데이터를 도출하고 싶을 경우, 위 함수에서 standard_value 라인만 주석처리하면 됩니다.\n",
    "\n",
    "이 때, 파일명도 혼동되지 않도록, `df_preprocessed(inter)_machine_name.csv` 로 변경해주세요."
   ]
  },
  {
   "cell_type": "markdown",
   "id": "cbe79a79",
   "metadata": {},
   "source": [
    "이제 데이터를 전처리하기 위해, 병합된 데이터를 가져와보겠습니다. \n",
    "\n",
    "병합된 데이터를 가져오기 위해선, 아래 모듈을 사용하시면 됩니다."
   ]
  },
  {
   "cell_type": "code",
   "execution_count": null,
   "id": "0c72517d",
   "metadata": {},
   "outputs": [],
   "source": [
    "import data_load"
   ]
  },
  {
   "cell_type": "markdown",
   "id": "dd5ca428",
   "metadata": {},
   "source": [
    "`data_load` 의 `return_data(df_list, machine_name)` 메소드에 다음과 같이 data_list 와 원하는 장비 이름을 전달하여 병합된 데이터를 반환받습니다.\n",
    "\n",
    "예를 들어, 1005_1 장비의 데이터를 병합하고 싶을 경우, 다음과 같이 작성합니다."
   ]
  },
  {
   "cell_type": "code",
   "execution_count": null,
   "id": "328dc608",
   "metadata": {},
   "outputs": [],
   "source": [
    "df_0=pd.read_csv('/mnt/elice/dataset/mySuni_PJT_1_Data_bler.csv')\n",
    "df_1=pd.read_csv('/mnt/elice/dataset/mySuni_PJT_1_Data_connection.csv')\n",
    "df_2=pd.read_csv('/mnt/elice/dataset/mySuni_PJT_1_Data_interx2in_succ_rate.csv')\n",
    "df_3=pd.read_csv('/mnt/elice/dataset/mySuni_PJT_1_Data_interx2out_succ_rate.csv')\n",
    "df_4=pd.read_csv('/mnt/elice/dataset/mySuni_PJT_1_Data_intraenb_succ_rate.csv')\n",
    "df_5=pd.read_csv('/mnt/elice/dataset/mySuni_PJT_1_Data_PRB.csv')\n",
    "df_6=pd.read_csv('/mnt/elice/dataset/mySuni_PJT_1_Data_reconfig.csv')\n",
    "\n",
    "df_list = [df_0,df_1,df_2,df_3,df_4,df_5,df_6]"
   ]
  },
  {
   "cell_type": "code",
   "execution_count": null,
   "id": "317188c7",
   "metadata": {
    "scrolled": true
   },
   "outputs": [],
   "source": [
    "df_new = data_load.return_data(df_list, '1005_1')"
   ]
  },
  {
   "cell_type": "markdown",
   "id": "67d1cb0a",
   "metadata": {},
   "source": [
    "병합된 `1005_1` 장비 데이터를 전처리하고 결과 파일을 csv로 도출하는 경우의 다음과 같이 함수를 호출합니다."
   ]
  },
  {
   "cell_type": "code",
   "execution_count": null,
   "id": "de846b3c",
   "metadata": {
    "scrolled": true
   },
   "outputs": [],
   "source": [
    "preprocess_file(df_new, 2, '1005_1')"
   ]
  },
  {
   "cell_type": "code",
   "execution_count": null,
   "id": "1864828e",
   "metadata": {},
   "outputs": [],
   "source": [
    "df_new_preprocess = pd.read_csv('./df_preprocessed(inter&scaled)_1005_1.csv')"
   ]
  },
  {
   "cell_type": "code",
   "execution_count": null,
   "id": "0923b525",
   "metadata": {},
   "outputs": [],
   "source": [
    "df_new_preprocess"
   ]
  },
  {
   "cell_type": "markdown",
   "id": "67020d77",
   "metadata": {},
   "source": [
    "장비명은 아래와 같이 확인할 수 있습니다. "
   ]
  },
  {
   "cell_type": "code",
   "execution_count": null,
   "id": "e49e37e3",
   "metadata": {},
   "outputs": [],
   "source": [
    "f = open('./machine_list.txt')\n",
    "for i in f:\n",
    "    print(i)"
   ]
  }
 ],
 "metadata": {
  "kernelspec": {
   "display_name": ".venv",
   "language": "python",
   "name": "python3"
  },
  "language_info": {
   "codemirror_mode": {
    "name": "ipython",
    "version": 3
   },
   "file_extension": ".py",
   "mimetype": "text/x-python",
   "name": "python",
   "nbconvert_exporter": "python",
   "pygments_lexer": "ipython3",
   "version": "3.12.0"
  }
 },
 "nbformat": 4,
 "nbformat_minor": 5
}
