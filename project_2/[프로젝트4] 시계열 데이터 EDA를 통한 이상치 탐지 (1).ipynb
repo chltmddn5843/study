{
 "cells": [
  {
   "cell_type": "markdown",
   "id": "278478a2",
   "metadata": {},
   "source": [
    "# [프로젝트4] 시계열 데이터 EDA를 통한 이상치 탐지 (1)"
   ]
  },
  {
   "cell_type": "markdown",
   "id": "0fbb83cb",
   "metadata": {},
   "source": [
    "---"
   ]
  },
  {
   "cell_type": "markdown",
   "id": "a7a05578",
   "metadata": {
    "id": "BG_0zjG13zZy"
   },
   "source": [
    "\n",
    "## 프로젝트 목표\n",
    "---\n",
    "- 탐색적 데이터 분석을 통해 데이터의 이상치를 탐지합니다.\n",
    "- STL 기법과 자기상관 그래프를 통해 데이터의 이상탐지를 진행합니다.\n"
   ]
  },
  {
   "cell_type": "markdown",
   "id": "9be9ba05",
   "metadata": {
    "id": "pS7RvUWi5vJe"
   },
   "source": [
    "## 프로젝트 목차\n",
    "---\n",
    "\n",
    "1. **판다스로 csv 파일 불러오기:** 데이터 분석을 위한 python 라이브러리 pandas를 활용하여 데이터를 불러옵니다.\n",
    "\n",
    "2. **데이터 기본 분석하기:** 기초적인 데이터 구조를 확인합니다.\n",
    "\n",
    "3. **여러 개의 변수를 통합하여 이상 장비 확인하기:** 여러 개의 변수를 통합하여 이상 장비를 확인합니다.\n",
    "\n",
    "4. **STL 기법을 활용한 이상치 탐지:** STL 기법을 활용하여 이상 장비를 확인합니다. \n",
    "\n",
    "5. **Autocorrelation/Partial-Autocorrelation plot(자기상관 그래프)을 통한 이상탐지:** 자기상관 그래프를 통해 이상탐지를 진행합니다. "
   ]
  },
  {
   "cell_type": "markdown",
   "id": "e0661347",
   "metadata": {
    "id": "K-rxhtJI5_D2"
   },
   "source": [
    "## 프로젝트 개요\n",
    "---\n",
    "\n",
    "데이터 Exploratory Data Analysis(EDA)를 통해 데이터의 분포 및 값을 검토함으로써 데이터가 표현하는 현상을 더 잘 이해하고, 데이터에 대한 잠재적인 문제를 발견(이상치)해보는 과정을 진행합니다. "
   ]
  },
  {
   "cell_type": "markdown",
   "id": "df363867",
   "metadata": {},
   "source": [
    "---"
   ]
  },
  {
   "cell_type": "markdown",
   "id": "d0dd59fe",
   "metadata": {},
   "source": [
    "## 1. 데이터 불러오기\n",
    "---"
   ]
  },
  {
   "cell_type": "code",
   "execution_count": null,
   "id": "b7a8bb95",
   "metadata": {},
   "outputs": [],
   "source": [
    "import numpy as np\n",
    "import matplotlib.pyplot as plt \n",
    "import pandas as pd\n",
    "import seaborn as sns\n",
    "from sklearn.preprocessing import StandardScaler\n",
    "plt.rcParams['axes.unicode_minus']=False"
   ]
  },
  {
   "cell_type": "code",
   "execution_count": null,
   "id": "b0354846",
   "metadata": {},
   "outputs": [],
   "source": [
    "df=pd.read_csv('df_preprocessed(inter)_1004_0.csv')"
   ]
  },
  {
   "cell_type": "code",
   "execution_count": null,
   "id": "91c13857",
   "metadata": {
    "scrolled": true
   },
   "outputs": [],
   "source": [
    "df"
   ]
  },
  {
   "cell_type": "code",
   "execution_count": null,
   "id": "5ab9e1e7",
   "metadata": {},
   "outputs": [],
   "source": [
    "df.count()"
   ]
  },
  {
   "cell_type": "markdown",
   "id": "c1c4d51d",
   "metadata": {},
   "source": [
    "다른 장비의 데이터를 불러오기 위해서는, 아래와 같은 함수를 사용하실 수 있습니다. "
   ]
  },
  {
   "cell_type": "code",
   "execution_count": null,
   "id": "ef690c9d",
   "metadata": {},
   "outputs": [],
   "source": [
    "df_0=pd.read_csv('/mnt/elice/dataset/mySuni_PJT_1_Data_bler.csv')\n",
    "df_1=pd.read_csv('/mnt/elice/dataset/mySuni_PJT_1_Data_connection.csv')\n",
    "df_2=pd.read_csv('/mnt/elice/dataset/mySuni_PJT_1_Data_interx2in_succ_rate.csv')\n",
    "df_3=pd.read_csv('/mnt/elice/dataset/mySuni_PJT_1_Data_interx2out_succ_rate.csv')\n",
    "df_4=pd.read_csv('/mnt/elice/dataset/mySuni_PJT_1_Data_intraenb_succ_rate.csv')\n",
    "df_5=pd.read_csv('/mnt/elice/dataset/mySuni_PJT_1_Data_PRB.csv')\n",
    "df_6=pd.read_csv('/mnt/elice/dataset/mySuni_PJT_1_Data_reconfig.csv')\n",
    "\n",
    "df_list = [df_0,df_1,df_2,df_3,df_4,df_5,df_6]"
   ]
  },
  {
   "cell_type": "markdown",
   "id": "df4f6973",
   "metadata": {},
   "source": [
    "`preprocess_data` 모듈의 `return_preprocess_data(df_list, machine_name, order)` 함수를 활용하여 결측치가 보간된 데이터를 얻을 수 있습니다. \n",
    "\n",
    "machine_name 에는 원하는 장비명을, order에는 원하는 결측치 보간의 polynomial order 값을 입력해주세요.\n",
    "\n",
    "예를 들어, `1005_1` 장비의 전처리된 데이터를 불러오기 위해서는 아래와 같은 코드를 사용할 수 있습니다. "
   ]
  },
  {
   "cell_type": "code",
   "execution_count": null,
   "id": "7ffe7903",
   "metadata": {},
   "outputs": [],
   "source": [
    "import preprocess_data\n",
    "\n",
    "df_new = preprocess_data.return_preprocess_data(df_list, '1005_1', 2)"
   ]
  },
  {
   "cell_type": "code",
   "execution_count": null,
   "id": "63854637",
   "metadata": {},
   "outputs": [],
   "source": [
    "df_new"
   ]
  },
  {
   "cell_type": "markdown",
   "id": "f3e03092",
   "metadata": {},
   "source": [
    "장비 명은 다음의 txt 파일에 저장되어있습니다. "
   ]
  },
  {
   "cell_type": "code",
   "execution_count": null,
   "id": "df5436bc",
   "metadata": {},
   "outputs": [],
   "source": [
    "f = open('./machine_list.txt')\n",
    "for i in f:\n",
    "    print(i)"
   ]
  },
  {
   "cell_type": "markdown",
   "id": "9d37fdbb",
   "metadata": {},
   "source": [
    "## 2. 데이터 기본 분석하기\n",
    "---"
   ]
  },
  {
   "cell_type": "markdown",
   "id": "e4b76f1f",
   "metadata": {},
   "source": [
    "데이터의 Descriptive Statistics를 확인합니다."
   ]
  },
  {
   "cell_type": "code",
   "execution_count": null,
   "id": "4a4680e3",
   "metadata": {
    "scrolled": false
   },
   "outputs": [],
   "source": [
    "df.describe()"
   ]
  },
  {
   "cell_type": "markdown",
   "id": "82c2bf46",
   "metadata": {},
   "source": [
    "#### 분포가 정규분포를 따를까?"
   ]
  },
  {
   "cell_type": "code",
   "execution_count": null,
   "id": "0a315f07",
   "metadata": {
    "scrolled": true
   },
   "outputs": [],
   "source": [
    "fig, ax = plt.subplots(nrows=5, ncols=2, figsize=(15,20))\n",
    "\n",
    "sns.distplot(df[\"dl_bler_inter\"], ax=ax[0,0])\n",
    "sns.distplot(df[\"ul_bler_inter\"], ax=ax[0,1])\n",
    "sns.distplot(df[\"conn_avg_inter\"], ax=ax[1,0])\n",
    "sns.distplot(df[\"conn_max_inter\"], ax=ax[1,1])\n",
    "sns.distplot(df[\"interx2in_succ_rate_inter\"], ax=ax[2,0])\n",
    "sns.distplot(df[\"interx2out_succ_rate_inter\"], ax=ax[2,1])\n",
    "sns.distplot(df[\"intraenb_succ_rate_inter\"], ax=ax[3,0])\n",
    "sns.distplot(df[\"dl_prb_inter\"], ax=ax[3,1])\n",
    "sns.distplot(df[\"ul_prb_inter\"], ax=ax[4,0])\n",
    "sns.distplot(df[\"reconfig_succ_rate_inter\"], ax=ax[4,1])"
   ]
  },
  {
   "cell_type": "code",
   "execution_count": null,
   "id": "8b13e7b8",
   "metadata": {
    "scrolled": false
   },
   "outputs": [],
   "source": [
    "corr=df.corr()\n",
    "corr"
   ]
  },
  {
   "cell_type": "markdown",
   "id": "aefbc1d0",
   "metadata": {},
   "source": [
    "변수끼리의 상관성을 확인합니다. 이 때, 검은색에 가까울수록 +상관도가 높고, 흰색에 가까울수록 –상관도가 높습니다."
   ]
  },
  {
   "cell_type": "code",
   "execution_count": null,
   "id": "64f1e2c6",
   "metadata": {
    "scrolled": true
   },
   "outputs": [],
   "source": [
    "sns.heatmap(corr, cmap=\"OrRd\")"
   ]
  },
  {
   "cell_type": "markdown",
   "id": "92ba81fc",
   "metadata": {},
   "source": [
    "seaborn에서 제공하는 pairplot 시각화"
   ]
  },
  {
   "cell_type": "code",
   "execution_count": null,
   "id": "db3e5094",
   "metadata": {
    "scrolled": true
   },
   "outputs": [],
   "source": [
    "sns.pairplot(df)"
   ]
  },
  {
   "cell_type": "markdown",
   "id": "2ee3fcaf",
   "metadata": {},
   "source": [
    "## 3. 여러 개의 변수를 통합하여 이상 장비 확인하기\n",
    "---"
   ]
  },
  {
   "cell_type": "markdown",
   "id": "dc026682",
   "metadata": {},
   "source": [
    "#### 두 변수들 사이의 관계 시각화"
   ]
  },
  {
   "cell_type": "code",
   "execution_count": null,
   "id": "cc646866",
   "metadata": {},
   "outputs": [],
   "source": [
    "scaler_dl_prb = StandardScaler().fit_transform(df.dl_prb_inter.values.reshape(-1,1))\n",
    "scaler_ul_prb = StandardScaler().fit_transform(df.ul_prb_inter.values.reshape(-1,1))\n",
    "scaler_dl_bler = StandardScaler().fit_transform(df.dl_bler_inter.values.reshape(-1,1))\n",
    "scaler_ul_bler = StandardScaler().fit_transform(df.ul_bler_inter.values.reshape(-1,1))\n",
    "scaler_conn_max = StandardScaler().fit_transform(df.conn_max_inter.values.reshape(-1,1))\n",
    "scaler_conn_avg = StandardScaler().fit_transform(df.conn_avg_inter.values.reshape(-1,1))"
   ]
  },
  {
   "cell_type": "markdown",
   "id": "64f171b2",
   "metadata": {},
   "source": [
    "dl_prb & ul_prb 관계"
   ]
  },
  {
   "cell_type": "code",
   "execution_count": null,
   "id": "63473745",
   "metadata": {},
   "outputs": [],
   "source": [
    "fig = plt.subplots(figsize=(20,5))\n",
    "plt.plot(scaler_dl_prb[0:200], label='dl_prb_inter')\n",
    "plt.plot(scaler_ul_prb[0:200], label='ul_prb_inter')\n",
    "\n",
    "plt.legend(loc='upper left')\n",
    "\n",
    "plt.show()"
   ]
  },
  {
   "cell_type": "markdown",
   "id": "d206f3a3",
   "metadata": {},
   "source": [
    "ul_bler & dl_bler 관계"
   ]
  },
  {
   "cell_type": "code",
   "execution_count": null,
   "id": "60e9c913",
   "metadata": {},
   "outputs": [],
   "source": [
    "fig = plt.subplots(figsize=(20,5))\n",
    "plt.plot(scaler_dl_bler[0:200], label='dl_bler_inter')\n",
    "plt.plot(scaler_ul_bler[0:200], label='ul_bler_inter')\n",
    "\n",
    "plt.legend(loc='upper left')\n",
    "\n",
    "plt.show()"
   ]
  },
  {
   "cell_type": "markdown",
   "id": "99889d72",
   "metadata": {},
   "source": [
    "conn_max & conn_avg 관계"
   ]
  },
  {
   "cell_type": "code",
   "execution_count": null,
   "id": "99632bb7",
   "metadata": {},
   "outputs": [],
   "source": [
    "fig = plt.subplots(figsize=(20,5))\n",
    "plt.plot(scaler_conn_max[0:200], label='conn_max_inter')\n",
    "plt.plot(scaler_conn_avg[0:200], label='conn_avg_inter')\n",
    "\n",
    "plt.legend(loc='upper left')\n",
    "\n",
    "plt.show()"
   ]
  },
  {
   "cell_type": "markdown",
   "id": "2ad5ab0f",
   "metadata": {},
   "source": [
    "conn_max 와 연결 무선 자원에 대한 지표와의 관계"
   ]
  },
  {
   "cell_type": "code",
   "execution_count": null,
   "id": "3f41aeac",
   "metadata": {},
   "outputs": [],
   "source": [
    "fig = plt.subplots(figsize=(20,5))\n",
    "plt.plot(scaler_conn_max[0:200], label='conn_max_inter')\n",
    "plt.plot(scaler_ul_prb[0:200], label='ul_prb_inter')\n",
    "\n",
    "plt.legend(loc='upper left')\n",
    "\n",
    "plt.show()"
   ]
  },
  {
   "cell_type": "code",
   "execution_count": null,
   "id": "4afd1000",
   "metadata": {},
   "outputs": [],
   "source": [
    "fig = plt.subplots(figsize=(20,5))\n",
    "plt.plot(scaler_conn_max[0:200], label='conn_max_inter')\n",
    "plt.plot(scaler_dl_prb[0:200], label='dl_prb_inter')\n",
    "\n",
    "plt.legend(loc='upper left')\n",
    "\n",
    "plt.show()"
   ]
  },
  {
   "cell_type": "markdown",
   "id": "8281dfe7",
   "metadata": {},
   "source": [
    "conn_avg 와 연결 무선 자원에 대한 지표와의 관계"
   ]
  },
  {
   "cell_type": "code",
   "execution_count": null,
   "id": "56624966",
   "metadata": {},
   "outputs": [],
   "source": [
    "fig = plt.subplots(figsize=(20,5))\n",
    "plt.plot(scaler_conn_avg[0:200], label='conn_avg_inter')\n",
    "plt.plot(scaler_ul_prb[0:200], label='ul_prb_inter')\n",
    "\n",
    "plt.legend(loc='upper left')\n",
    "\n",
    "plt.show()"
   ]
  },
  {
   "cell_type": "code",
   "execution_count": null,
   "id": "fc44da38",
   "metadata": {},
   "outputs": [],
   "source": [
    "fig = plt.subplots(figsize=(20,5))\n",
    "plt.plot(scaler_conn_avg[0:200], label='conn_avg_inter')\n",
    "plt.plot(scaler_dl_prb[0:200], label='dl_prb_inter')\n",
    "\n",
    "plt.legend(loc='upper left')\n",
    "\n",
    "plt.show()"
   ]
  },
  {
   "cell_type": "markdown",
   "id": "3c579393",
   "metadata": {},
   "source": [
    "연결 재구성 성공률과 연결 데이터 블록 오류율과의 관계"
   ]
  },
  {
   "cell_type": "code",
   "execution_count": null,
   "id": "a6db4324",
   "metadata": {},
   "outputs": [],
   "source": [
    "scaler_reconfig_succ_rate = StandardScaler().fit_transform(df.reconfig_succ_rate_inter.values.reshape(-1,1))"
   ]
  },
  {
   "cell_type": "code",
   "execution_count": null,
   "id": "0e942b7a",
   "metadata": {},
   "outputs": [],
   "source": [
    "fig = plt.subplots(figsize=(20,5))\n",
    "plt.plot(scaler_dl_bler[0:200], label='dl_bler_inter')\n",
    "plt.plot(scaler_reconfig_succ_rate[0:200], label='reconfig_succ_rate_inter')\n",
    "\n",
    "plt.legend(loc='upper left')\n",
    "\n",
    "plt.show()"
   ]
  },
  {
   "cell_type": "code",
   "execution_count": null,
   "id": "d1a318e3",
   "metadata": {},
   "outputs": [],
   "source": [
    "fig = plt.subplots(figsize=(20,5))\n",
    "plt.plot(scaler_ul_bler[0:200], label='ul_bler_inter')\n",
    "plt.plot(scaler_reconfig_succ_rate[0:200], label='reconfig_succ_rate_inter')\n",
    "\n",
    "plt.legend(loc='upper left')\n",
    "\n",
    "plt.show()"
   ]
  },
  {
   "cell_type": "markdown",
   "id": "7b2ef685",
   "metadata": {},
   "source": [
    "### [TODO] 1005_1 장비에 대하여 동일하게 적용해봅니다. \n",
    "\n",
    "df_new를 활용하여 Descriptive Statistics 를 확인하고, 연결 재구성 성공률과 연결 데이터 블록 오류율과의 관계에 대한 비교 시각화를 진행해봅니다."
   ]
  },
  {
   "cell_type": "code",
   "execution_count": null,
   "id": "bf43304a",
   "metadata": {
    "scrolled": false
   },
   "outputs": [],
   "source": [
    "'code'"
   ]
  },
  {
   "cell_type": "code",
   "execution_count": null,
   "id": "ad8c3f9b",
   "metadata": {},
   "outputs": [],
   "source": [
    "scaler_dl_bler_new = 'code'"
   ]
  },
  {
   "cell_type": "code",
   "execution_count": null,
   "id": "260b7095",
   "metadata": {},
   "outputs": [],
   "source": [
    "scaler_reconfig_succ_rate_new = 'code'"
   ]
  },
  {
   "cell_type": "code",
   "execution_count": null,
   "id": "edd896d7",
   "metadata": {},
   "outputs": [],
   "source": [
    "fig = plt.subplots(figsize=(20,5))\n",
    "\n",
    "'code'\n",
    "\n",
    "plt.legend(loc='upper left')\n",
    "\n",
    "plt.show()"
   ]
  },
  {
   "cell_type": "markdown",
   "id": "2a9b45bd",
   "metadata": {},
   "source": [
    "## 4. STL 기법을 활용한 이상치 탐지 \n",
    "---"
   ]
  },
  {
   "cell_type": "markdown",
   "id": "42b9895f",
   "metadata": {},
   "source": [
    "STL 기법이란, time series = seasonal + trend 구분하여, random graph 에서 비정상 포인트를 발견하는 방법입니다. STL 기법을 활용하여 이상치를 탐지해봅니다."
   ]
  },
  {
   "cell_type": "code",
   "execution_count": null,
   "id": "845c7f31",
   "metadata": {},
   "outputs": [],
   "source": [
    "!pip install statsmodels"
   ]
  },
  {
   "cell_type": "code",
   "execution_count": null,
   "id": "8a07e545",
   "metadata": {},
   "outputs": [],
   "source": [
    "import statsmodels.api as sm\n",
    "from statsmodels.graphics.tsaplots import plot_acf, plot_pacf"
   ]
  },
  {
   "cell_type": "code",
   "execution_count": null,
   "id": "3336519c",
   "metadata": {},
   "outputs": [],
   "source": [
    "decomposition = sm.tsa.seasonal_decompose(df[\"dl_prb_inter\"][:500], model='additive', period=24)\n",
    "fig=decomposition.plot()\n",
    "fig.set_size_inches(10,10)\n",
    "plt.show()"
   ]
  },
  {
   "cell_type": "markdown",
   "id": "f89e5a07",
   "metadata": {},
   "source": [
    "## 5. Autocorrelation/Partial-Autocorrelation plot(자기상관 그래프)을 통한 이상탐지\n",
    "---"
   ]
  },
  {
   "cell_type": "markdown",
   "id": "60daf5a2",
   "metadata": {},
   "source": [
    "Autocorrelation/Partial-Autocorrelation plot(자기상관 그래프)를 통해 데이터의 이상치를 탐지합니다."
   ]
  },
  {
   "cell_type": "markdown",
   "id": "a396bab5",
   "metadata": {},
   "source": [
    "#### ACF/PACF 기법"
   ]
  },
  {
   "cell_type": "code",
   "execution_count": null,
   "id": "79806943",
   "metadata": {
    "scrolled": true
   },
   "outputs": [],
   "source": [
    "plt.figure(figsize=(15,5))\n",
    "plt.plot(np.arange(500), df[\"dl_prb_inter\"][:500])"
   ]
  },
  {
   "cell_type": "code",
   "execution_count": null,
   "id": "57ce7624",
   "metadata": {
    "scrolled": false
   },
   "outputs": [],
   "source": [
    "import statsmodels.api as sm\n",
    "from statsmodels.graphics.tsaplots import plot_acf, plot_pacf"
   ]
  },
  {
   "cell_type": "code",
   "execution_count": null,
   "id": "02fd4ad9",
   "metadata": {
    "scrolled": true
   },
   "outputs": [],
   "source": [
    "fig, ax = plt.subplots(1,2, figsize=(20,5))\n",
    "fig.suptitle('Raw Data')\n",
    "sm.graphics.tsa.plot_acf(df[\"dl_prb_inter\"], lags=70, ax=ax[0])\n",
    "sm.graphics.tsa.plot_pacf(df[\"dl_prb_inter\"], lags=70, ax=ax[1]);"
   ]
  },
  {
   "cell_type": "markdown",
   "id": "348c91e3",
   "metadata": {},
   "source": [
    "#### ACF/PACF 0~500까지"
   ]
  },
  {
   "cell_type": "code",
   "execution_count": null,
   "id": "1d8ba947",
   "metadata": {
    "scrolled": true
   },
   "outputs": [],
   "source": [
    "fig, ax = plt.subplots(1,2, figsize=(20,5))\n",
    "fig.suptitle('Raw Data')\n",
    "sm.graphics.tsa.plot_acf(df[\"dl_prb_inter\"], lags=500, ax=ax[0])\n",
    "sm.graphics.tsa.plot_pacf(df[\"dl_prb_inter\"], lags=500, ax=ax[1]);"
   ]
  }
 ],
 "metadata": {
  "kernelspec": {
   "display_name": "Python 3 (ipykernel)",
   "language": "python",
   "name": "python3"
  },
  "language_info": {
   "codemirror_mode": {
    "name": "ipython",
    "version": 3
   },
   "file_extension": ".py",
   "mimetype": "text/x-python",
   "name": "python",
   "nbconvert_exporter": "python",
   "pygments_lexer": "ipython3",
   "version": "3.10.14"
  }
 },
 "nbformat": 4,
 "nbformat_minor": 5
}
