{
 "cells": [
  {
   "cell_type": "markdown",
   "metadata": {
    "id": "-rxt9bMf3orJ"
   },
   "source": [
    "# [프로젝트1] 데이터셋 전처리하기\n"
   ]
  },
  {
   "cell_type": "markdown",
   "metadata": {},
   "source": [
    "---"
   ]
  },
  {
   "cell_type": "markdown",
   "metadata": {},
   "source": [
    "## 프로젝트 목표\n",
    "---\n",
    "\n",
    "1. 파이썬 데이터분석 라이브러리인 `Pandas`를  이용하여 주어진 데이터 이해 \n",
    "2. 결측치 처리를 한 후 MME 장비 별 데이터를 저장하기"
   ]
  },
  {
   "cell_type": "markdown",
   "metadata": {
    "id": "pS7RvUWi5vJe"
   },
   "source": [
    "## 프로젝트 목차\n",
    "\n",
    "--- \n",
    "\n",
    "<div class=\"toc\"><ul class=\"toc-item\"><li><span><a href=\"#데이터-읽기\" data-toc-modified-id=\"데이터-읽기-1\"><span class=\"toc-item-num\">1&nbsp;&nbsp;</span>데이터 읽기</a></span><ul class=\"toc-item\"><li><span><a href=\"#라이브러리-불러오기\" data-toc-modified-id=\"라이브러리-불러오기-1.1\"><span class=\"toc-item-num\">1.1&nbsp;&nbsp;</span>라이브러리 불러오기</a></span></li><li><span><a href=\"#데이터-불러오기\" data-toc-modified-id=\"데이터-불러오기-1.2\"><span class=\"toc-item-num\">1.2&nbsp;&nbsp;</span>데이터 불러오기</a></span></li><li><span><a href=\"#MME-데이터-분석\" data-toc-modified-id=\"MME-데이터-분석-1.3\"><span class=\"toc-item-num\">1.3&nbsp;&nbsp;</span>MME 데이터 분석</a></span></li><li><span><a href=\"#[TODO]-df-dataframe을-묘사(describe)하는-코드를-작성하세요.\" data-toc-modified-id=\"[TODO]-df-dataframe을-묘사(describe)하는-코드를-작성하세요.-1.4\"><span class=\"toc-item-num\">1.4&nbsp;&nbsp;</span>[TODO] <code>df</code> dataframe을 묘사(describe)하는 코드를 작성하세요.</a></span></li><li><span><a href=\"#[TODO]-df-dataframe의-카테고리-변수를-묘사(describe)하는-코드를-작성하세요.\" data-toc-modified-id=\"[TODO]-df-dataframe의-카테고리-변수를-묘사(describe)하는-코드를-작성하세요.-1.5\"><span class=\"toc-item-num\">1.5&nbsp;&nbsp;</span>[TODO] <code>df</code> dataframe의 카테고리 변수를 묘사(describe)하는 코드를 작성하세요.</a></span></li></ul></li><li><span><a href=\"#데이터-전처리\" data-toc-modified-id=\"데이터-전처리-2\"><span class=\"toc-item-num\">2&nbsp;&nbsp;</span>데이터 전처리</a></span><ul class=\"toc-item\"><li><span><a href=\"#데이터-삭제하기\" data-toc-modified-id=\"데이터-삭제하기-2.1\"><span class=\"toc-item-num\">2.1&nbsp;&nbsp;</span>데이터 삭제하기</a></span></li><li><span><a href=\"#기기별,-신호-종류에-따라-데이터-정제\" data-toc-modified-id=\"기기별,-신호-종류에-따라-데이터-정제-2.2\"><span class=\"toc-item-num\">2.2&nbsp;&nbsp;</span>기기별, 신호 종류에 따라 데이터 정제</a></span></li><li><span><a href=\"#데이터-결측치-확인\" data-toc-modified-id=\"데이터-결측치-확인-2.3\"><span class=\"toc-item-num\">2.3&nbsp;&nbsp;</span>데이터 결측치 확인</a></span></li><li><span><a href=\"#기기-별로-데이터-결측치-확인\" data-toc-modified-id=\"기기-별로-데이터-결측치-확인-2.4\"><span class=\"toc-item-num\">2.4&nbsp;&nbsp;</span>기기 별로 데이터 결측치 확인</a></span></li><li><span><a href=\"#기기별로-데이터에-존재하는-결측치-보간\" data-toc-modified-id=\"기기별로-데이터에-존재하는-결측치-보간-2.5\"><span class=\"toc-item-num\">2.5&nbsp;&nbsp;</span>기기별로 데이터에 존재하는 결측치 보간</a></span></li><li><span><a href=\"#데이터-보간확인\" data-toc-modified-id=\"데이터-보간확인-2.6\"><span class=\"toc-item-num\">2.6&nbsp;&nbsp;</span>데이터 보간확인</a></span></li></ul></li><li><span><a href=\"#데이터-시각화\" data-toc-modified-id=\"데이터-시각화-3\"><span class=\"toc-item-num\">3&nbsp;&nbsp;</span>데이터 시각화</a></span><ul class=\"toc-item\"><li><span><a href=\"#데이터-시각화-하기\" data-toc-modified-id=\"데이터-시각화-하기-3.1\"><span class=\"toc-item-num\">3.1&nbsp;&nbsp;</span>데이터 시각화 하기</a></span></li><li><span><a href=\"#[TODO]--전체-데이터에서--MME017-데이터에-대한-그래프-그리기\" data-toc-modified-id=\"[TODO]--전체-데이터에서--MME017-데이터에-대한-그래프-그리기-3.2\"><span class=\"toc-item-num\">3.2&nbsp;&nbsp;</span>[TODO]  전체 데이터에서  MME017 데이터에 대한 그래프 그리기</a></span></li><li><span><a href=\"#전처리-끝난-데이터-저장하기\" data-toc-modified-id=\"전처리-끝난-데이터-저장하기-3.3\"><span class=\"toc-item-num\">3.3&nbsp;&nbsp;</span>전처리 끝난 데이터 저장하기</a></span></li></ul></li></ul></div>"
   ]
  },
  {
   "cell_type": "markdown",
   "metadata": {
    "id": "K-rxhtJI5_D2"
   },
   "source": [
    "## 프로젝트 개요\n",
    "---\n",
    "\n",
    "본 프로젝트에서는 주어진 데이터는`MME 장비`의 성능 상태를 파악할 수 있는 통계 데이터입니다. \n",
    "이러한 성능 상태 데이터가 어떻게 구성되어 있는지 직접 확인해보고, 추후 분석을 위해 기기 별로 저장 시켜 봅니다. "
   ]
  },
  {
   "cell_type": "markdown",
   "metadata": {
    "id": "0kOsIuLd6EA9"
   },
   "source": [
    "## 데이터 읽기\n",
    "\n",
    "---\n"
   ]
  },
  {
   "cell_type": "markdown",
   "metadata": {
    "id": "471BvUaaTr5Z"
   },
   "source": [
    "### 라이브러리 불러오기\n",
    "---\n",
    "프로젝트에 필요한 다양한 라이브러리, 파일을 불러옵니다."
   ]
  },
  {
   "cell_type": "code",
   "execution_count": 6,
   "metadata": {
    "ExecuteTime": {
     "end_time": "2022-06-05T14:27:31.962616Z",
     "start_time": "2022-06-05T14:27:30.312533Z"
    }
   },
   "outputs": [],
   "source": [
    "import matplotlib.pyplot as plt\n",
    "import missingno\n",
    "import numpy as np\n",
    "import pandas as pd\n",
    "import scipy.stats as stats\n",
    "import seaborn as sns\n",
    "import sklearn\n",
    "import pickle\n",
    "import openpyxl\n",
    "\n",
    "pd.options.display.max_rows = 80\n",
    "pd.options.display.max_columns = 80\n",
    "sns.set_style(\"whitegrid\")\n",
    "\n",
    "%matplotlib inline"
   ]
  },
  {
   "cell_type": "markdown",
   "metadata": {
    "id": "iLgWa_5zUJ6p"
   },
   "source": [
    "### 데이터 불러오기\n",
    "---\n",
    "\n",
    "데이터(`./Infra센터_Guided_PJT_Topic_3_Data_(5g_ss_mme).xlsx`)에는 아래와 같은 정보들이 저장되어 있습니다. 이를 확인해보도록 합니다.\n",
    "\n",
    "|변수|설명|\n",
    "|:--|------------:|\n",
    "|occr_dth|날짜+시간|\n",
    "|dt|\t날짜|\n",
    "|hh|\t시간|\n",
    "|src_nm|\t장비명|\n",
    "|tgt_nm|\t연결장비명 (LINK 통계쓸때만 사용)|\n",
    "|variable| 시도호 및 성공률|\n",
    "|value\t|통계값|\n",
    "|status\t|상태|     \n",
    "|label 장비와 시도호 및 성공률 결합데이터 | \n",
    "|timeslot| 전체 시간 순서 (내림차순)|\n",
    "|ds | 날짜와 시간 datetime 데이터| \n",
    "\n",
    "\n",
    "- 본 실습에 사용하는 value 정보는 기기 신호의 세기에 해당하며, 이 값을 시계열 분석에 활용함. \n"
   ]
  },
  {
   "cell_type": "markdown",
   "metadata": {},
   "source": [
    "### MME 데이터 분석\n",
    "\n",
    "먼저, Python 라이브러리인 [Pandas](https://pandas.pydata.org)를 활용하여 xlsx 파일 안에 첫번째 sheet를 load 하여 Pandas Dataframe 형태로 저장합니다. 참고: [Pandas.read_excel](https://pandas.pydata.org/pandas-docs/stable/reference/api/pandas.read_excel.html)"
   ]
  },
  {
   "cell_type": "code",
   "execution_count": 7,
   "metadata": {
    "ExecuteTime": {
     "end_time": "2022-06-05T14:27:36.786228Z",
     "start_time": "2022-06-05T14:27:33.330440Z"
    },
    "id": "EQUQXELoW_Hf"
   },
   "outputs": [
    {
     "data": {
      "text/html": [
       "<div>\n",
       "<style scoped>\n",
       "    .dataframe tbody tr th:only-of-type {\n",
       "        vertical-align: middle;\n",
       "    }\n",
       "\n",
       "    .dataframe tbody tr th {\n",
       "        vertical-align: top;\n",
       "    }\n",
       "\n",
       "    .dataframe thead th {\n",
       "        text-align: right;\n",
       "    }\n",
       "</style>\n",
       "<table border=\"1\" class=\"dataframe\">\n",
       "  <thead>\n",
       "    <tr style=\"text-align: right;\">\n",
       "      <th></th>\n",
       "      <th>occr_dth</th>\n",
       "      <th>dt</th>\n",
       "      <th>hh</th>\n",
       "      <th>src_nm</th>\n",
       "      <th>tgt_nm</th>\n",
       "      <th>variable</th>\n",
       "      <th>value</th>\n",
       "      <th>status</th>\n",
       "      <th>label</th>\n",
       "      <th>timeslot</th>\n",
       "      <th>ds</th>\n",
       "    </tr>\n",
       "  </thead>\n",
       "  <tbody>\n",
       "    <tr>\n",
       "      <th>0</th>\n",
       "      <td>2022030708</td>\n",
       "      <td>20220307</td>\n",
       "      <td>8</td>\n",
       "      <td>MME017</td>\n",
       "      <td>ALL</td>\n",
       "      <td>comb_atch_att_45005</td>\n",
       "      <td>24075.0</td>\n",
       "      <td>normal</td>\n",
       "      <td>MME017-ALL : comb_atch_att_45005</td>\n",
       "      <td>167</td>\n",
       "      <td>2022-03-07 09:00:00</td>\n",
       "    </tr>\n",
       "    <tr>\n",
       "      <th>1</th>\n",
       "      <td>2022030708</td>\n",
       "      <td>20220307</td>\n",
       "      <td>8</td>\n",
       "      <td>MME017</td>\n",
       "      <td>ALL</td>\n",
       "      <td>comb_atch_att_etc</td>\n",
       "      <td>26716.0</td>\n",
       "      <td>normal</td>\n",
       "      <td>MME017-ALL : comb_atch_att_etc</td>\n",
       "      <td>167</td>\n",
       "      <td>2022-03-07 09:00:00</td>\n",
       "    </tr>\n",
       "    <tr>\n",
       "      <th>2</th>\n",
       "      <td>2022030708</td>\n",
       "      <td>20220307</td>\n",
       "      <td>8</td>\n",
       "      <td>MME017</td>\n",
       "      <td>ALL</td>\n",
       "      <td>ue_dtch_att</td>\n",
       "      <td>28228.0</td>\n",
       "      <td>too_much</td>\n",
       "      <td>MME017-ALL : ue_dtch_att</td>\n",
       "      <td>167</td>\n",
       "      <td>2022-03-07 09:00:00</td>\n",
       "    </tr>\n",
       "    <tr>\n",
       "      <th>3</th>\n",
       "      <td>2022030708</td>\n",
       "      <td>20220307</td>\n",
       "      <td>8</td>\n",
       "      <td>MME017</td>\n",
       "      <td>ALL</td>\n",
       "      <td>net_dtch_att</td>\n",
       "      <td>11524.0</td>\n",
       "      <td>normal</td>\n",
       "      <td>MME017-ALL : net_dtch_att</td>\n",
       "      <td>167</td>\n",
       "      <td>2022-03-07 09:00:00</td>\n",
       "    </tr>\n",
       "    <tr>\n",
       "      <th>4</th>\n",
       "      <td>2022030708</td>\n",
       "      <td>20220307</td>\n",
       "      <td>8</td>\n",
       "      <td>MME017</td>\n",
       "      <td>ALL</td>\n",
       "      <td>srmo_att</td>\n",
       "      <td>17370653.0</td>\n",
       "      <td>too_much</td>\n",
       "      <td>MME017-ALL : srmo_att</td>\n",
       "      <td>167</td>\n",
       "      <td>2022-03-07 09:00:00</td>\n",
       "    </tr>\n",
       "  </tbody>\n",
       "</table>\n",
       "</div>"
      ],
      "text/plain": [
       "     occr_dth        dt  hh  src_nm tgt_nm             variable       value  \\\n",
       "0  2022030708  20220307   8  MME017    ALL  comb_atch_att_45005     24075.0   \n",
       "1  2022030708  20220307   8  MME017    ALL    comb_atch_att_etc     26716.0   \n",
       "2  2022030708  20220307   8  MME017    ALL          ue_dtch_att     28228.0   \n",
       "3  2022030708  20220307   8  MME017    ALL         net_dtch_att     11524.0   \n",
       "4  2022030708  20220307   8  MME017    ALL             srmo_att  17370653.0   \n",
       "\n",
       "     status                             label  timeslot                  ds  \n",
       "0    normal  MME017-ALL : comb_atch_att_45005       167 2022-03-07 09:00:00  \n",
       "1    normal    MME017-ALL : comb_atch_att_etc       167 2022-03-07 09:00:00  \n",
       "2  too_much          MME017-ALL : ue_dtch_att       167 2022-03-07 09:00:00  \n",
       "3    normal         MME017-ALL : net_dtch_att       167 2022-03-07 09:00:00  \n",
       "4  too_much             MME017-ALL : srmo_att       167 2022-03-07 09:00:00  "
      ]
     },
     "execution_count": 7,
     "metadata": {},
     "output_type": "execute_result"
    }
   ],
   "source": [
    "# 데이터 읽어오기\n",
    "df = pd.read_excel('./Infra센터_Guided_PJT_Topic_3_Data_(5g_ss_mme).xlsx',\n",
    "                   sheet_name=0,\n",
    "                   )\n",
    "df.head()  # 앞 5행 보여주기"
   ]
  },
  {
   "cell_type": "code",
   "execution_count": null,
   "metadata": {
    "ExecuteTime": {
     "end_time": "2022-06-05T14:27:37.333282Z",
     "start_time": "2022-06-05T14:27:37.301315Z"
    }
   },
   "outputs": [],
   "source": [
    "# excel 기본 정보 출력\n",
    "df.info()"
   ]
  },
  {
   "cell_type": "code",
   "execution_count": null,
   "metadata": {
    "ExecuteTime": {
     "end_time": "2022-06-05T14:27:37.628662Z",
     "start_time": "2022-06-05T14:27:37.608716Z"
    }
   },
   "outputs": [],
   "source": [
    "# ds 컬럼이 occr_dth, dt, hh의 결합인지 확인  \n",
    "df[['occr_dth','dt','hh','ds']]"
   ]
  },
  {
   "cell_type": "code",
   "execution_count": null,
   "metadata": {
    "ExecuteTime": {
     "end_time": "2022-06-05T14:27:37.817196Z",
     "start_time": "2022-06-05T14:27:37.802215Z"
    }
   },
   "outputs": [],
   "source": [
    "# datetime인 ds 컬럼의 중복을 제외하고 처음과 끝을 확인 \n",
    "\n",
    "print('처음 날짜:', list(df['ds'].unique())[0]) \n",
    "print('마지막 날짜:', list(df['ds'].unique())[-1])"
   ]
  },
  {
   "cell_type": "code",
   "execution_count": null,
   "metadata": {
    "ExecuteTime": {
     "end_time": "2022-06-05T14:27:38.037853Z",
     "start_time": "2022-06-05T14:27:38.024883Z"
    },
    "scrolled": false
   },
   "outputs": [],
   "source": [
    "# tgt_nm 컬럼 확인\n",
    "df[['tgt_nm']]"
   ]
  },
  {
   "cell_type": "code",
   "execution_count": null,
   "metadata": {
    "ExecuteTime": {
     "end_time": "2022-06-05T14:27:38.243214Z",
     "start_time": "2022-06-05T14:27:38.223268Z"
    }
   },
   "outputs": [],
   "source": [
    "# tgt_nm 컬럼 유일 값 확인  \n",
    "df['tgt_nm'].unique()"
   ]
  },
  {
   "cell_type": "code",
   "execution_count": null,
   "metadata": {
    "ExecuteTime": {
     "end_time": "2022-06-05T14:27:38.431409Z",
     "start_time": "2022-06-05T14:27:38.412487Z"
    }
   },
   "outputs": [],
   "source": [
    "# status 컬럼 유일 값 확인 \n",
    "df['status'].unique()"
   ]
  },
  {
   "cell_type": "code",
   "execution_count": null,
   "metadata": {
    "ExecuteTime": {
     "end_time": "2022-06-05T14:27:38.620254Z",
     "start_time": "2022-06-05T14:27:38.598340Z"
    }
   },
   "outputs": [],
   "source": [
    "# status 컬럼 분포 확인  \n",
    "df['status'].value_counts()"
   ]
  },
  {
   "cell_type": "code",
   "execution_count": null,
   "metadata": {
    "ExecuteTime": {
     "end_time": "2022-06-05T14:27:38.795335Z",
     "start_time": "2022-06-05T14:27:38.784333Z"
    }
   },
   "outputs": [],
   "source": [
    "# src_nm 컬럼 유일 값 확인  \n",
    "df['src_nm'].unique()"
   ]
  },
  {
   "cell_type": "code",
   "execution_count": null,
   "metadata": {
    "ExecuteTime": {
     "end_time": "2022-06-05T14:27:38.985424Z",
     "start_time": "2022-06-05T14:27:38.966503Z"
    }
   },
   "outputs": [],
   "source": [
    "#  variable 컬럼 유일 값 확인  \n",
    "df['variable'].unique()"
   ]
  },
  {
   "cell_type": "code",
   "execution_count": null,
   "metadata": {
    "ExecuteTime": {
     "end_time": "2022-06-05T14:27:39.172845Z",
     "start_time": "2022-06-05T14:27:39.150930Z"
    }
   },
   "outputs": [],
   "source": [
    "# label 이 src_nm 과 variable 의 결합인지 확인  \n",
    "df[['src_nm','variable','label']]"
   ]
  },
  {
   "cell_type": "markdown",
   "metadata": {},
   "source": [
    "### [TODO] `df` dataframe을 묘사(describe)하는 코드를 작성하세요.\n",
    "- 출력되는 값들은 소수점 셋 째자리까지 나오게 반올림하세요."
   ]
  },
  {
   "cell_type": "code",
   "execution_count": null,
   "metadata": {
    "ExecuteTime": {
     "end_time": "2022-06-05T14:27:39.519450Z",
     "start_time": "2022-06-05T14:27:39.495408Z"
    },
    "scrolled": true
   },
   "outputs": [],
   "source": [
    "'code'"
   ]
  },
  {
   "cell_type": "markdown",
   "metadata": {},
   "source": [
    "### [TODO] `df` dataframe의 카테고리 변수를 묘사(describe)하는 코드를 작성하세요.\n",
    "- 출력되는 값들은 소수점 셋 째자리까지 나오게 반올림하세요."
   ]
  },
  {
   "cell_type": "code",
   "execution_count": null,
   "metadata": {
    "ExecuteTime": {
     "end_time": "2022-06-05T14:27:39.907332Z",
     "start_time": "2022-06-05T14:27:39.867462Z"
    },
    "scrolled": false
   },
   "outputs": [],
   "source": [
    "#  categorical data 분석\n",
    "'code'"
   ]
  },
  {
   "cell_type": "markdown",
   "metadata": {},
   "source": [
    "## 데이터 전처리\n",
    "---\n"
   ]
  },
  {
   "cell_type": "markdown",
   "metadata": {},
   "source": [
    "### 데이터 삭제하기\n",
    "\n",
    "앞서 확인 한 정보로 데이터를 정제해 주도록 합니다. \n",
    "\n",
    "- label 은  src_nm 과 variable 의 결합 입니다.   \n",
    "- ds 컬럼이 occr_dth, dt, hh의 결합 입니다.\n",
    "- tgt_nm 컬럼은 단일 값이므로 영향을 미치지 못합니다. "
   ]
  },
  {
   "cell_type": "code",
   "execution_count": null,
   "metadata": {
    "ExecuteTime": {
     "end_time": "2022-06-05T14:27:40.433523Z",
     "start_time": "2022-06-05T14:27:40.411582Z"
    },
    "scrolled": true
   },
   "outputs": [],
   "source": [
    "# 불필요한 컬럼 삭제 \n",
    "drop_duplicate_list = ['occr_dth','dt','hh','tgt_nm','timeslot','status','label'] # 불필요한 컬럼 명명 \n",
    "df = df.drop(drop_duplicate_list,axis=1) # 불필요한 컬럼에 해당하는 값 삭제 이때, dataframe 열을 삭제 (axis=1)\n",
    "df.head() # 잘 정제 되었는지 확인"
   ]
  },
  {
   "cell_type": "markdown",
   "metadata": {},
   "source": [
    "### 기기별, 신호 종류에 따라 데이터 정제 \n",
    "\n",
    "1. 주어진 데이터에서 기기는 총 7개 입니다. \n",
    " - 'MME017', 'MME018', 'MME071', 'MME072', 'MME073', 'MME074','MME091', 'MME092', 'MME093'\n",
    " \n",
    "2.  variable은 26 종류로써 다음과 같이 세부품목으로 이루어져있습니다. \n",
    "\n",
    "|변수|설명|\n",
    "|:--|------------:|\n",
    "|comb_atch_att_45005\t|\t국내가입자 attach 시도호|\n",
    "|comb_atch_att_etc|\t인바운드로머 attach 시도호|\n",
    "|ue_dtch_att\t|가입자에 의한 detach 시도호|\n",
    "|net_dtch_att|\t장비에 의한 detach 시도호|\n",
    "|srmo_att|\t데이터 발신 시도|\n",
    "|srmt_att|\t데이터 착신 시도|\n",
    "|comb_tau_att|\t위치 등록 시도|\n",
    "|prd_tau_att|\t주기적 위치등록 시도|\n",
    "|pag_data_att|\t데이터 페이징 시도|\n",
    "|pag_hdv_att|\thdvoice 페이징 시도|\n",
    "|pag_sms_att\t|sms 페이징 시도|\n",
    "|pag_video_att\t|영상통화 페이징 시도|\n",
    "|ddn_att\t|downlink data noti. 시도|\n",
    "|comb_atch_succ_rate_45005\t|국내가입자 attach 성공율|\n",
    "|comb_atch_succ_rate_etc\t|인바운드로머 attach 성공율|\n",
    "|ue_dtch_succ_rate\t|가입자에 의한 detach 성공율|\n",
    "|net_dtch_succ_rate\t|장비에 의한 detach 성공율|\n",
    "|srmo_succ_rate\t|데이터 발신 성공율|\n",
    "|srmt_succ_rate\t|데이터 착신 성공율|\n",
    "|comb_tau_succ_rate|\t위치 등록 성공율|\n",
    "|prd_tau_succ_rate|\t주기적 위치등록 성공율|\n",
    "|pag_data_succ_rate\t|데이터 페이징 성공율|\n",
    "|pag_hdv_succ_rate|\thdvoice 페이징 성공율|\n",
    "|pag_sms_succ_rate|\tsms 페이징 성공율|\n",
    "|pag_video_succ_rate|\t영상통화 페이징 성공율|\n",
    "|ddn_succ_rate\t|downlink data noti. 성공율|\n",
    "\n",
    "- `pivot_table`을 이용하여 데이터에 시간과 기기를 인덱스로 설정하고 variable 각각의 변수별로 값을 나타내도록 정제합니다.\n"
   ]
  },
  {
   "cell_type": "markdown",
   "metadata": {},
   "source": [
    "`variable` 컬럼의 값을 직관적으로 알기 위해서 다음과 값을 딕셔너리 형태로 저장해줍니다."
   ]
  },
  {
   "cell_type": "code",
   "execution_count": null,
   "metadata": {
    "ExecuteTime": {
     "end_time": "2022-06-05T14:27:40.947489Z",
     "start_time": "2022-06-05T14:27:40.932529Z"
    }
   },
   "outputs": [],
   "source": [
    "feature_dict = {\n",
    "\"comb_atch_att_45005\":\"국내가입자 attach 시도호\",\n",
    "\"comb_atch_att_etc\":\"인바운드로머 attach 시도호\",\n",
    "\"ue_dtch_att\":\"가입자에 의한 detach 시도호\",\n",
    "\"net_dtch_att\":\"장비에 의한 detach 시도호\",\n",
    "\"srmo_att\":\"데이터 발신 시도\",\n",
    "\"srmt_att\":\"데이터 착신 시도\",\n",
    "\"comb_tau_att\":\"위치 등록 시도\",\n",
    "\"prd_tau_att\":\"주기적 위치등록 시도\",\n",
    "\"pag_data_att\":\"데이터 페이징 시도\",\n",
    "\"pag_hdv_att\":\"hdvoice 페이징 시도\",\n",
    "\"pag_sms_att\":\"sms 페이징 시도\",\n",
    "\"pag_video_att\":\"영상통화 페이징 시도\",\n",
    "\"ddn_att\":\"downlink data noti. 시도\",\n",
    "\"comb_atch_succ_rate_45005\":\"국내가입자 attach 성공율\",\n",
    "\"comb_atch_succ_rate_etc\":\"인바운드로머 attach 성공율\",\n",
    "\"ue_dtch_succ_rate\":\"가입자에 의한 detach 성공율\",\n",
    "\"net_dtch_succ_rate\":\"장비에 의한 detach 성공율\",\n",
    "\"srmo_succ_rate\":\"데이터 발신 성공율\",\n",
    "\"srmt_succ_rate\":\"데이터 착신 성공율\",\n",
    "\"comb_tau_succ_rate\":\"위치 등록 성공율\",\n",
    "\"prd_tau_succ_rate\":\"주기적 위치등록 성공율\",\n",
    "\"pag_data_succ_rate\":\"데이터 페이징 성공율\",\n",
    "\"pag_hdv_succ_rate\":\"hdvoice 페이징 성공율\",\n",
    "\"pag_sms_succ_rate\":\"sms 페이징 성공율\",\n",
    "\"pag_video_succ_rate\":\"영상통화 페이징 성공율\",\n",
    "\"ddn_succ_rate\":\"downlink data noti. 성공율\",\n",
    "}"
   ]
  },
  {
   "cell_type": "code",
   "execution_count": null,
   "metadata": {
    "ExecuteTime": {
     "end_time": "2022-06-05T14:27:41.133997Z",
     "start_time": "2022-06-05T14:27:41.119037Z"
    }
   },
   "outputs": [],
   "source": [
    "att_features = list(feature_dict.keys())[:13]  # 시도호 컬럼\n",
    "rate_features = list(feature_dict.keys())[13:]  # 성공률 컬럼\n",
    "\n",
    "# 시도호 컬럼에 속하면 TYPE 시도호, 성공률 컬럼에 속하면 TYPE 성공률 \n",
    "for key in feature_dict:\n",
    "    print('| TYPE:{:<6s} | KEY:{:<26s}| VALUE:{:<40s}' .format(\n",
    "        '성공률' if key in rate_features else '시도호', key, feature_dict[key]))"
   ]
  },
  {
   "cell_type": "code",
   "execution_count": null,
   "metadata": {
    "ExecuteTime": {
     "end_time": "2022-06-05T14:27:41.323725Z",
     "start_time": "2022-06-05T14:27:41.304797Z"
    }
   },
   "outputs": [],
   "source": [
    "pd.__version__"
   ]
  },
  {
   "cell_type": "code",
   "execution_count": null,
   "metadata": {
    "ExecuteTime": {
     "end_time": "2022-06-05T14:27:41.495864Z",
     "start_time": "2022-06-05T14:27:41.488883Z"
    }
   },
   "outputs": [],
   "source": [
    "# 기기 이름 확인 및 저장 \n",
    "devices = df['src_nm'].unique()"
   ]
  },
  {
   "cell_type": "code",
   "execution_count": null,
   "metadata": {
    "ExecuteTime": {
     "end_time": "2022-06-05T14:27:41.730009Z",
     "start_time": "2022-06-05T14:27:41.674159Z"
    }
   },
   "outputs": [],
   "source": [
    "# pivot_table을 이용하여 데이터에 시간과 기기를 인덱스로 설정하고 variable 각각의 변수별로 값을 나타내도록 정제\n",
    "# 시간과 기기를 인덱스로 설정하고 variable 각각의 변수별로 값을 나타냅니다. \n",
    "df = df.pivot_table(index=['ds','src_nm'],columns=['variable'],aggfunc='sum') \n",
    "df = df.loc[(slice(None),slice(None)),'value'] # value level 없애기 \n",
    "df"
   ]
  },
  {
   "cell_type": "markdown",
   "metadata": {},
   "source": [
    "### 데이터 결측치 확인\n",
    "\n",
    "다음 코드 실행을 통해 데이터의 결측치가 있는지 확인 해봅니다.\n"
   ]
  },
  {
   "cell_type": "code",
   "execution_count": null,
   "metadata": {
    "ExecuteTime": {
     "end_time": "2022-06-05T14:27:42.040774Z",
     "start_time": "2022-06-05T14:27:42.028806Z"
    }
   },
   "outputs": [],
   "source": [
    "df.isna().sum()"
   ]
  },
  {
   "cell_type": "markdown",
   "metadata": {},
   "source": [
    "`missingno` 패키지를 확용하여 결측치를 시각화해봅니다. \n",
    "\n",
    "- 여기서 하얀색은 결측치를 의미하며, 하얀색의 비중이 많을 수록 해당 데이터에 결측치가 많다고 생각 할수 있습니다. "
   ]
  },
  {
   "cell_type": "code",
   "execution_count": null,
   "metadata": {
    "ExecuteTime": {
     "end_time": "2022-06-05T14:27:42.702756Z",
     "start_time": "2022-06-05T14:27:42.376830Z"
    },
    "scrolled": false
   },
   "outputs": [],
   "source": [
    "missingno.matrix(df)\n",
    "df.isna().sum()"
   ]
  },
  {
   "cell_type": "markdown",
   "metadata": {},
   "source": [
    "### 기기 별로 데이터 결측치 확인"
   ]
  },
  {
   "cell_type": "code",
   "execution_count": null,
   "metadata": {
    "ExecuteTime": {
     "end_time": "2022-06-05T14:27:45.081098Z",
     "start_time": "2022-06-05T14:27:42.955987Z"
    },
    "scrolled": false
   },
   "outputs": [],
   "source": [
    "# 2. 기기 별 결측치 확인\n",
    "for device in devices:\n",
    "    \"\"\"\n",
    "    기기 별로 for문을 돌고 df에서 기기를 선택하여 missingno 패키지를 사용하여 시각화 \n",
    "    \"\"\"\n",
    "    missingno.matrix(df.loc[(slice(None), device), :], # 시각화 할 데이터 ,\n",
    "                     figsize=(14, 4) # 시각화 템플릿 크기 설정 \n",
    "                    )\n",
    "    plt.title(f' Missing value in \"{device}\"', size=20) # 그래프 이름 설정 \n",
    "    plt.show()\n",
    "    print('='*120)"
   ]
  },
  {
   "cell_type": "markdown",
   "metadata": {},
   "source": [
    "### 기기별로 데이터에 존재하는 결측치 보간\n",
    "\n",
    "일반적으로 데이터의 결측치가 존재 할 경우 다음과 같은 세가지 방법 중 하나를 사용합니다. \n",
    "\n",
    "1. 제거하기 : 결측치값의 비율이 적을때 사용\n",
    "> - dropna()\n",
    "\n",
    "1. 다른 값으로 대체하기: 가장 쉬운 방법으로 보통 평균으로 대체 \n",
    "> - fillna()\n",
    "\n",
    "1. interpolationa 방법을 사용하기\n",
    "```\n",
    "interpolation(method, limit_direction, axis)\n",
    "```\n",
    "> - method=linear 보간법 함수가 linear \n",
    "> - limit_direction='backward' # 뒤에서 부터 채워 오기 \n",
    "> - imit_direction='forward' # 앞에서 채우기 \n",
    "> - imit_direction='both' # 양 옆에서 채워나가기 "
   ]
  },
  {
   "cell_type": "code",
   "execution_count": null,
   "metadata": {
    "ExecuteTime": {
     "end_time": "2022-06-05T14:27:45.143860Z",
     "start_time": "2022-06-05T14:27:45.129152Z"
    }
   },
   "outputs": [],
   "source": [
    "# 1. 함수 설정 \n",
    "def interpolate_df(df):\n",
    "    \"\"\"\n",
    "        Summary: pandas interpolation을 사용하여 열방향으로 결측치 보간 \n",
    "    \"\"\"\n",
    "    return df.interpolate(method='linear',limit_direction='both',axis=0)"
   ]
  },
  {
   "cell_type": "code",
   "execution_count": null,
   "metadata": {
    "ExecuteTime": {
     "end_time": "2022-06-05T14:27:45.221656Z",
     "start_time": "2022-06-05T14:27:45.207694Z"
    }
   },
   "outputs": [],
   "source": [
    "# 2. 전체 결과 저장 할 닥셔너리 만들기\n",
    "total_df = {}"
   ]
  },
  {
   "cell_type": "code",
   "execution_count": null,
   "metadata": {
    "ExecuteTime": {
     "end_time": "2022-06-05T14:27:45.300823Z",
     "start_time": "2022-06-05T14:27:45.270528Z"
    }
   },
   "outputs": [],
   "source": [
    "# 3. 기기에서 하나씩 불러서 결측치 채운값  닥셔너리에 넣어주기\n",
    "for device in devices:\n",
    "    \"\"\"\n",
    "    1. 데이터 프레임 (df)에서 기기를 선택 \n",
    "    2. 기기존재 하는 컬럼 삭제 droplevle(axis=0, level=1)\n",
    "         - level: 제거할 단계 입니다.\n",
    "         - axis:  특정 레벨을 행/열 방향으로 제거할 옵션\n",
    "    3. 보간사용 \n",
    "    \"\"\"\n",
    "#     total_df[device] = interpolate_df( \n",
    "#         df.loc[(slice(None), device), :]).droplevel(axis=0, level=1)   \n",
    "    tmp = interpolate_df(df.loc[(slice(None), device), :])\n",
    "    total_df[device] = pd.DataFrame(data=tmp.values, index=tmp.index.droplevel(1), columns = tmp.columns)\n",
    "    "
   ]
  },
  {
   "cell_type": "markdown",
   "metadata": {},
   "source": [
    "### 데이터 보간확인\n",
    "\n",
    "앞서 결측치가 잘 보간 되었는지 확인 합니다. "
   ]
  },
  {
   "cell_type": "code",
   "execution_count": null,
   "metadata": {
    "ExecuteTime": {
     "end_time": "2022-06-05T14:27:47.756869Z",
     "start_time": "2022-06-05T14:27:45.666646Z"
    }
   },
   "outputs": [],
   "source": [
    "# 기기 별 결측치 확인\n",
    "for device in devices:\n",
    "    \"\"\"\n",
    "    기기 별로 for문을 돌고 df에서 기기를 선택하여 missingno 패키지를 사용하여 시각화 \n",
    "    \"\"\"\n",
    "    missingno.matrix(total_df[device], # 시각화 할 데이터 ,\n",
    "                     figsize=(14, 4) # 시각화 템플릿 크기 설정 \n",
    "                    )\n",
    "    plt.title(f' Missing value in \"{device}\"', size=20) # 그래프 이름 설정 \n",
    "    plt.show()\n",
    "    print('='*120)"
   ]
  },
  {
   "cell_type": "markdown",
   "metadata": {},
   "source": [
    "## 데이터 시각화\n",
    "\n",
    "---"
   ]
  },
  {
   "cell_type": "markdown",
   "metadata": {},
   "source": [
    "### 데이터 시각화 하기 \n",
    "\n",
    "결측치를 보간한 데이터를 시각화 해보도록 합니다."
   ]
  },
  {
   "cell_type": "markdown",
   "metadata": {},
   "source": [
    "### [TODO]  전체 데이터에서  MME017 데이터에 대한 그래프 그리기 \n",
    "\n",
    "- 전체 데이터는 total_df로 dictionary 형태입니다. \n",
    "- 해당 기기 이름은 MME017 입니다. \n",
    "- .plot()는 판다스의 그래프를 그려주는 내장함수입니다. "
   ]
  },
  {
   "cell_type": "code",
   "execution_count": null,
   "metadata": {
    "ExecuteTime": {
     "end_time": "2022-06-05T14:27:48.453162Z",
     "start_time": "2022-06-05T14:27:48.090162Z"
    }
   },
   "outputs": [],
   "source": [
    "# 단순 그래프 그려보기 \n",
    "'code'"
   ]
  },
  {
   "cell_type": "code",
   "execution_count": null,
   "metadata": {
    "ExecuteTime": {
     "end_time": "2022-06-05T14:27:48.815672Z",
     "start_time": "2022-06-05T14:27:48.801308Z"
    }
   },
   "outputs": [],
   "source": [
    "def ppolt(df, title='MME017'):\n",
    "    \"\"\"\n",
    "        Summary: 데이터를 시각화 해주는 함수입니다. \n",
    "    Args: \n",
    "        df 데이터 프레임\n",
    "        title 은 plot title\n",
    "    \"\"\"\n",
    "    df.plot(figsize=(12, 10),  # 전체 그래프 크기 조절\n",
    "            title=title,  # 전체 그래프 타이틀\n",
    "            fontsize=12  # 전체 그래프 폰트 크기\n",
    "            )\n",
    "    plt.legend(loc='center left',  # legent 위치 우측 센터\n",
    "               bbox_to_anchor=(1.0, 0.5),  # legend 위치 미세조정\n",
    "               fontsize=13  # legend 폰트 조절\n",
    "               )\n",
    "    plt.show()"
   ]
  },
  {
   "cell_type": "code",
   "execution_count": null,
   "metadata": {
    "ExecuteTime": {
     "end_time": "2022-06-05T14:27:52.119028Z",
     "start_time": "2022-06-05T14:27:49.149779Z"
    },
    "scrolled": true
   },
   "outputs": [],
   "source": [
    "for device in devices:\n",
    "    \"\"\"\n",
    "    기기별로 pplot 함수를 사용하여 시각화 \n",
    "    \"\"\"\n",
    "    ppolt(total_df[device], str(device)) "
   ]
  },
  {
   "cell_type": "markdown",
   "metadata": {},
   "source": [
    "### 전처리 끝난 데이터 저장하기\n",
    "\n",
    "추후 데이터를 사용하기 위하여 전처리가 끝난 데이터를 `pickle` 패키지를 사용하여 저장하도록 합니다. "
   ]
  },
  {
   "cell_type": "code",
   "execution_count": null,
   "metadata": {
    "ExecuteTime": {
     "end_time": "2022-06-05T09:37:40.645340Z",
     "start_time": "2022-06-05T09:37:40.630380Z"
    }
   },
   "outputs": [],
   "source": [
    "# save\n",
    "# 통신 열어주고, wb 읽고쓰기 모드 선택, 저장할 이름 선택 \n",
    "with open('MME_data.p', 'wb') as fp: \n",
    "    pickle.dump(total_df, fp, protocol=pickle.HIGHEST_PROTOCOL)"
   ]
  }
 ],
 "metadata": {
  "colab": {
   "name": "인공지능 프로젝트 템플릿",
   "provenance": [],
   "toc_visible": true
  },
  "kernelspec": {
   "display_name": ".venv",
   "language": "python",
   "name": "python3"
  },
  "language_info": {
   "codemirror_mode": {
    "name": "ipython",
    "version": 3
   },
   "file_extension": ".py",
   "mimetype": "text/x-python",
   "name": "python",
   "nbconvert_exporter": "python",
   "pygments_lexer": "ipython3",
   "version": "3.12.4"
  },
  "toc": {
   "base_numbering": 1,
   "nav_menu": {},
   "number_sections": true,
   "sideBar": true,
   "skip_h1_title": true,
   "title_cell": "Table of Contents",
   "title_sidebar": "Contents",
   "toc_cell": false,
   "toc_position": {
    "height": "calc(100% - 180px)",
    "left": "10px",
    "top": "150px",
    "width": "465.455px"
   },
   "toc_section_display": true,
   "toc_window_display": false
  },
  "varInspector": {
   "cols": {
    "lenName": 16,
    "lenType": 16,
    "lenVar": 40
   },
   "kernels_config": {
    "python": {
     "delete_cmd_postfix": "",
     "delete_cmd_prefix": "del ",
     "library": "var_list.py",
     "varRefreshCmd": "print(var_dic_list())"
    },
    "r": {
     "delete_cmd_postfix": ") ",
     "delete_cmd_prefix": "rm(",
     "library": "var_list.r",
     "varRefreshCmd": "cat(var_dic_list()) "
    }
   },
   "types_to_exclude": [
    "module",
    "function",
    "builtin_function_or_method",
    "instance",
    "_Feature"
   ],
   "window_display": false
  }
 },
 "nbformat": 4,
 "nbformat_minor": 1
}
