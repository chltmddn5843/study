{
 "cells": [
  {
   "cell_type": "markdown",
   "id": "e3e8c71d",
   "metadata": {},
   "source": [
    "# 데이터 전처리\n",
    "\n",
    "## 데이터 전처리 중 데이터 추출\n",
    "- 가시성을 유의해야함\n",
    "- 우리가 보고자하는게 뭔가?\n",
    "- 특정 시점별과 장비별로 데이터 파악"
   ]
  },
  {
   "cell_type": "markdown",
   "id": "aa1601a4",
   "metadata": {},
   "source": []
  }
 ],
 "metadata": {
  "language_info": {
   "name": "python"
  }
 },
 "nbformat": 4,
 "nbformat_minor": 5
}
