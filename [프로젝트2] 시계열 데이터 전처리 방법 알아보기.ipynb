{
 "cells": [
  {
   "cell_type": "markdown",
   "id": "0da33ea0",
   "metadata": {},
   "source": [
    "# [프로젝트2] 시계열 데이터 전처리 방법 알아보기\n",
    "---"
   ]
  },
  {
   "cell_type": "markdown",
   "id": "b3b75d04",
   "metadata": {
    "id": "BG_0zjG13zZy"
   },
   "source": [
    "\n",
    "## 프로젝트 목표\n",
    "---\n",
    "- 데이터셋 내에 존재하는 결측치를 보간법을 활용하여 대체하는 방법을 알아봅니다.\n",
    "- 데이터셋 내에 존재하는 변수값의 범위를 비슷하게 만들어주는 정규화와 표준화를 진행하는 방법을 알아봅니다.\n"
   ]
  },
  {
   "cell_type": "markdown",
   "id": "f94a3e25",
   "metadata": {
    "id": "pS7RvUWi5vJe"
   },
   "source": [
    "## 프로젝트 목차\n",
    "---\n",
    "\n",
    "1. **데이터 불러오기:** 전처리를 진행할 데이터셋을 불러옵니다.\n",
    "\n",
    "2. **결측치 처리하기 (보간법):** 데이터셋 내에 존재하는 결측치 개수를 확인하고, 보간법을 활용하여 결측치를 대체하는 방법을 알아봅니다.\n",
    "\n",
    "3. **데이터 정규화와 표준화:** 변수 값의 범위를 유사하게 만들어주기 위한 정규화와 표준화를 진행하는 방법을 알아봅니다.\n",
    "\n"
   ]
  },
  {
   "cell_type": "markdown",
   "id": "92507918",
   "metadata": {
    "id": "K-rxhtJI5_D2"
   },
   "source": [
    "## 프로젝트 개요\n",
    "---\n",
    "\n",
    "cell id `1004_0`인 데이터를 활용하여 시계열 데이터 전처리(결측치 대체, 정규화, 표준화) 방법을 알아봅니다. \n"
   ]
  },
  {
   "cell_type": "markdown",
   "id": "4281cabc",
   "metadata": {},
   "source": [
    "## 1. 데이터 불러오기\n",
    "---\n",
    "\n",
    "전처리를 진행할 데이터셋을 불러오고, 기초 구조를 확인합니다. "
   ]
  },
  {
   "cell_type": "code",
   "execution_count": null,
   "id": "20b2ecaf",
   "metadata": {},
   "outputs": [],
   "source": [
    "import numpy as np\n",
    "import matplotlib.pyplot as plt \n",
    "import pandas as pd\n",
    "import seaborn as sns\n",
    "\n",
    "#plt.rcParams['axes.unicode_minus']=False"
   ]
  },
  {
   "cell_type": "code",
   "execution_count": null,
   "id": "4415cba9",
   "metadata": {},
   "outputs": [],
   "source": [
    "df=pd.read_csv('./1004_0.csv')"
   ]
  },
  {
   "cell_type": "code",
   "execution_count": null,
   "id": "d7f42da8",
   "metadata": {
    "scrolled": true
   },
   "outputs": [],
   "source": [
    "df.head(30)"
   ]
  },
  {
   "cell_type": "markdown",
   "id": "1b55fd4d",
   "metadata": {},
   "source": [
    "## 2. 결측치 처리하기 (보간법)\n",
    "---\n",
    "\n",
    "데이터 분석 수학 분야에서 \"보간법(Interpolation)은 데이터 포인트들의 이산형 집합의 범위에 기반해서 새로운 데이터 포인트들을 만들거나 찾는 추정(estimation)의 한 유형＂입니다. 이번 시간에는 이러한 보간법을 활용하여 데이터 셋 내에 존재하는 결측치를 직접 처리해보겠습니다. "
   ]
  },
  {
   "cell_type": "markdown",
   "id": "c88ab04f",
   "metadata": {},
   "source": [
    "#### 결측값 갯수"
   ]
  },
  {
   "cell_type": "code",
   "execution_count": null,
   "id": "060659e2",
   "metadata": {
    "scrolled": true
   },
   "outputs": [],
   "source": [
    "df.isnull().sum()"
   ]
  },
  {
   "cell_type": "markdown",
   "id": "0724b8eb",
   "metadata": {},
   "source": [
    "#### df_temp 복제"
   ]
  },
  {
   "cell_type": "code",
   "execution_count": null,
   "id": "ee5134c3",
   "metadata": {},
   "outputs": [],
   "source": [
    "df_temp=df.copy()"
   ]
  },
  {
   "cell_type": "markdown",
   "id": "21e725eb",
   "metadata": {},
   "source": [
    "#### 보간법 "
   ]
  },
  {
   "cell_type": "code",
   "execution_count": null,
   "id": "5ac7d903",
   "metadata": {
    "scrolled": false
   },
   "outputs": [],
   "source": [
    "plt.figure(figsize=(6,5))\n",
    "plt.plot(np.arange(30),df['dl_prb'][0:30])\n",
    "\n",
    "plt.show()"
   ]
  },
  {
   "cell_type": "code",
   "execution_count": null,
   "id": "2ba879b9",
   "metadata": {},
   "outputs": [],
   "source": [
    "dl_prb_inter=df['dl_prb'].interpolate()"
   ]
  },
  {
   "cell_type": "code",
   "execution_count": null,
   "id": "4c213ff0",
   "metadata": {},
   "outputs": [],
   "source": [
    "dl_prb_inter_2=df['dl_prb'].interpolate(method='polynomial', order=2)"
   ]
  },
  {
   "cell_type": "code",
   "execution_count": null,
   "id": "7fec3b31",
   "metadata": {},
   "outputs": [],
   "source": [
    "df_temp['dl_prb_2']=dl_prb_inter"
   ]
  },
  {
   "cell_type": "code",
   "execution_count": null,
   "id": "383ddbd1",
   "metadata": {},
   "outputs": [],
   "source": [
    "df_temp['dl_prb_3']=dl_prb_inter_2"
   ]
  },
  {
   "cell_type": "code",
   "execution_count": null,
   "id": "26af9f7e",
   "metadata": {},
   "outputs": [],
   "source": [
    "df_temp.isnull().sum()"
   ]
  },
  {
   "cell_type": "code",
   "execution_count": null,
   "id": "84a2b474",
   "metadata": {},
   "outputs": [],
   "source": [
    "plt.figure(figsize=(6,5))\n",
    "plt.plot(np.arange(30),df_temp['dl_prb_2'][0:30])\n",
    "\n",
    "plt.show()"
   ]
  },
  {
   "cell_type": "code",
   "execution_count": null,
   "id": "9207250b",
   "metadata": {},
   "outputs": [],
   "source": [
    "plt.figure(figsize=(6,5))\n",
    "plt.plot(np.arange(30),df_temp['dl_prb_3'][0:30])\n",
    "\n",
    "plt.show()"
   ]
  },
  {
   "cell_type": "code",
   "execution_count": null,
   "id": "054f79f6",
   "metadata": {
    "scrolled": false
   },
   "outputs": [],
   "source": [
    "plt.rcParams[\"figure.figsize\"] = (20,8)\n",
    "df_temp['dl_prb_3'][0:100].plot()"
   ]
  },
  {
   "cell_type": "markdown",
   "id": "f5f06b86",
   "metadata": {},
   "source": [
    "### [TODO] \"interx2out_succ_rate\" 변수를 0번부터 30번까지 시각화 하시오."
   ]
  },
  {
   "cell_type": "code",
   "execution_count": null,
   "id": "15b9f444",
   "metadata": {
    "scrolled": false
   },
   "outputs": [],
   "source": [
    "plt.figure(figsize=(6,5))\n",
    "'code'\n",
    "\n",
    "plt.show()"
   ]
  },
  {
   "cell_type": "markdown",
   "id": "37bd5c47",
   "metadata": {},
   "source": [
    "### [TODO] 보간법 함수(interpolate) 이용하여 \"interx2out_succ_rate\" 변수의 NaN 값을 채워넣으시오. "
   ]
  },
  {
   "cell_type": "code",
   "execution_count": null,
   "id": "6df37b61",
   "metadata": {},
   "outputs": [],
   "source": [
    "interx2out_succ_rate_inter_test= 'code'"
   ]
  },
  {
   "cell_type": "code",
   "execution_count": null,
   "id": "da9a59a1",
   "metadata": {
    "scrolled": true
   },
   "outputs": [],
   "source": [
    "interx2out_succ_rate_inter_test.isnull().sum()"
   ]
  },
  {
   "cell_type": "markdown",
   "id": "6a02bd4c",
   "metadata": {},
   "source": [
    "## 3. 데이터 정규화와 표준화\n",
    "---\n",
    "\n",
    "정규화와 표준화는 각각의 변수의 단위가 다르기 때문에 변수들의 값의 범위를 비슷하게 만들어주는 과정입니다. \n",
    "\n",
    "sklearn의 StandardScaler와 MinMaxScaler를 활용하여 데이터의 정규화와 표준화를 진행해보겠습니다. "
   ]
  },
  {
   "cell_type": "code",
   "execution_count": null,
   "id": "58906dcc",
   "metadata": {},
   "outputs": [],
   "source": [
    "from sklearn.preprocessing import StandardScaler, MinMaxScaler"
   ]
  },
  {
   "cell_type": "code",
   "execution_count": null,
   "id": "16033879",
   "metadata": {},
   "outputs": [],
   "source": [
    "df_dl_prb=df_temp['dl_prb_3'].values.reshape(-1, 1)"
   ]
  },
  {
   "cell_type": "code",
   "execution_count": null,
   "id": "e32ccecf",
   "metadata": {},
   "outputs": [],
   "source": [
    "# normalize\n",
    "scaler_1 = MinMaxScaler()\n",
    "df_scaled_1 = scaler_1.fit_transform(df_dl_prb)\n",
    "\n",
    "# standardize\n",
    "scaler_2 = StandardScaler()\n",
    "df_scaled_2 = scaler_2.fit_transform(df_dl_prb)"
   ]
  },
  {
   "cell_type": "code",
   "execution_count": null,
   "id": "64b92e94",
   "metadata": {},
   "outputs": [],
   "source": [
    "df_temp['dl_prb_3'].shape"
   ]
  },
  {
   "cell_type": "code",
   "execution_count": null,
   "id": "6a40cc26",
   "metadata": {
    "scrolled": false
   },
   "outputs": [],
   "source": [
    "df_dl_prb.shape"
   ]
  },
  {
   "cell_type": "code",
   "execution_count": null,
   "id": "96d67340",
   "metadata": {},
   "outputs": [],
   "source": [
    "# original\n",
    "plt.style.use('ggplot')\n",
    "plt.figure(figsize=(6,5))\n",
    "plt.xlabel('time')\n",
    "plt.ylabel('dl_prb value')\n",
    "plt.plot(np.arange(100), df_temp['dl_prb_3'][0:100], color='b')\n",
    "plt.show()"
   ]
  },
  {
   "cell_type": "code",
   "execution_count": null,
   "id": "f9cb17b4",
   "metadata": {},
   "outputs": [],
   "source": [
    "import numpy as np"
   ]
  },
  {
   "cell_type": "code",
   "execution_count": null,
   "id": "4ea5d935",
   "metadata": {},
   "outputs": [],
   "source": [
    "# Normalize\n",
    "scaler_2 = MinMaxScaler()\n",
    "df_scaled_2 = scaler_2.fit_transform(df_dl_prb)\n",
    "\n",
    "plt.style.use('ggplot')\n",
    "plt.figure(figsize=(6,5))\n",
    "plt.xlabel('time')\n",
    "plt.ylabel('dl_prb value')\n",
    "plt.plot(np.arange(100), df_scaled_2[:100], color='b')\n",
    "#plt.ylim(0, 0.7)\n",
    "plt.show()"
   ]
  },
  {
   "cell_type": "code",
   "execution_count": null,
   "id": "22620179",
   "metadata": {},
   "outputs": [],
   "source": [
    "# standardize\n",
    "scaler_1 = StandardScaler()\n",
    "df_scaled_1 = scaler_1.fit_transform(df_dl_prb)\n",
    "\n",
    "plt.style.use('ggplot')\n",
    "plt.figure(figsize=(6,5))\n",
    "plt.xlabel('time')\n",
    "plt.ylabel('dl_prb value')\n",
    "plt.plot(np.arange(100), df_scaled_1[:100], color='b')\n",
    "#plt.ylim(-3, 3)\n",
    "plt.show()"
   ]
  }
 ],
 "metadata": {
  "kernelspec": {
   "display_name": "Python 3 (ipykernel)",
   "language": "python",
   "name": "python3"
  },
  "language_info": {
   "codemirror_mode": {
    "name": "ipython",
    "version": 3
   },
   "file_extension": ".py",
   "mimetype": "text/x-python",
   "name": "python",
   "nbconvert_exporter": "python",
   "pygments_lexer": "ipython3",
   "version": "3.10.14"
  }
 },
 "nbformat": 4,
 "nbformat_minor": 5
}
